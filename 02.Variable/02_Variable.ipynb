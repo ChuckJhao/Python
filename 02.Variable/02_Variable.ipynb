{
 "cells": [
  {
   "cell_type": "markdown",
   "metadata": {},
   "source": [
    "# Variable"
   ]
  },
  {
   "cell_type": "code",
   "execution_count": null,
   "metadata": {},
   "outputs": [],
   "source": [
    "x = 3\n",
    "print(x)"
   ]
  },
  {
   "cell_type": "code",
   "execution_count": 4,
   "metadata": {},
   "outputs": [
    {
     "name": "stdout",
     "output_type": "stream",
     "text": [
      "3\n",
      "<class 'int'>\n",
      "--------------\n",
      "This is a string\n",
      "<class 'str'>\n",
      "--------------\n",
      "[1, 2, 3, 4, 5]\n",
      "<class 'list'>\n"
     ]
    }
   ],
   "source": [
    "x = 3\n",
    "print(x)\n",
    "print(type(x))\n",
    "print('--------------')\n",
    "\n",
    "\n",
    "x = \"This is a string\"\n",
    "print(x)\n",
    "print(type(x))\n",
    "print('--------------')\n",
    "\n",
    "x = [1, 2, 3, 4, 5]\n",
    "print(x)\n",
    "print(type(x))"
   ]
  },
  {
   "cell_type": "markdown",
   "metadata": {},
   "source": [
    "# Everything in python is an object"
   ]
  },
  {
   "cell_type": "code",
   "execution_count": 2,
   "metadata": {},
   "outputs": [
    {
     "name": "stdout",
     "output_type": "stream",
     "text": [
      "140724953626464\n",
      "140724953626464\n",
      "140724953626464\n",
      "140724953626464\n"
     ]
    }
   ],
   "source": [
    "x = 3\n",
    "print(id(x))\n",
    "print(id(3))\n",
    "\n",
    "y = 3; z = 3\n",
    "print(id(y))\n",
    "print(id(z))"
   ]
  },
  {
   "cell_type": "code",
   "execution_count": 3,
   "metadata": {},
   "outputs": [
    {
     "name": "stdout",
     "output_type": "stream",
     "text": [
      "140724953626464\n",
      "140724953626464\n",
      "140724953626528\n",
      "140724953626528\n",
      "140724953626464\n"
     ]
    }
   ],
   "source": [
    "x = 3\n",
    "print(id(x))\n",
    "print(id(3))\n",
    "\n",
    "x = 5\n",
    "print(id(x))\n",
    "print(id(5))\n",
    "print(id(3))"
   ]
  },
  {
   "cell_type": "code",
   "execution_count": 4,
   "metadata": {},
   "outputs": [
    {
     "name": "stdout",
     "output_type": "stream",
     "text": [
      "a = [3, 3, 1]\n",
      "id(a) = 2725432302400\n",
      "id(a[0]) = 140724953626464\n",
      "id(a[1]) = 140724953626464\n",
      "id(a[2]) = 140724953626400\n",
      "a = [50, 3, 1]\n",
      "id(a[0]) = 140724953627968\n",
      "id(a[1]) = 140724953626464\n"
     ]
    }
   ],
   "source": [
    "a = [3, 3, 1]\n",
    "print('a =', a)\n",
    "print('id(a) =',id(a))\n",
    "\n",
    "print('id(a[0]) =', id(a[0]))\n",
    "print('id(a[1]) =', id(a[1]))\n",
    "print('id(a[2]) =', id(a[2]))\n",
    "\n",
    "a[0] = 50\n",
    "print('a =', a)\n",
    "\n",
    "print('id(a[0]) =', id(a[0]))\n",
    "print('id(a[1]) =', id(a[1]))"
   ]
  },
  {
   "cell_type": "code",
   "execution_count": null,
   "metadata": {},
   "outputs": [],
   "source": [
    "print(\"today is gooday\")"
   ]
  },
  {
   "cell_type": "code",
   "execution_count": null,
   "metadata": {},
   "outputs": [],
   "source": [
    "a = [3, 3, [100, 200]]\n",
    "print('id(a[2]) =', id(a[2]))\n",
    "print('id(a[2][0]) =', id(a[2][0]))\n",
    "print('id(a[2][1]) =', id(a[2][1]))\n",
    "\n",
    "a[2][0] = 200\n",
    "print('a[2][0] =', a[2][0])\n",
    "print('a =', a)\n",
    "\n",
    "print('id(a[2][1]) =', id(a[2][1]))\n",
    "print('id(a[2][0]) =', id(a[2][0]))\n",
    "a[2] = []\n",
    "print('id(a[2]) =', id(a[2]))\n"
   ]
  },
  {
   "cell_type": "markdown",
   "metadata": {},
   "source": [
    "# Mutable and immutable"
   ]
  },
  {
   "cell_type": "code",
   "execution_count": 5,
   "metadata": {},
   "outputs": [
    {
     "name": "stdout",
     "output_type": "stream",
     "text": [
      "140717810857824\n",
      "140717810857760\n",
      "140717810857792\n"
     ]
    }
   ],
   "source": [
    "x = 3\n",
    "print(id(x))\n",
    "\n",
    "x = 1\n",
    "print(id(x))\n",
    "\n",
    "x = x + 1\n",
    "print(id(x))  #immutable"
   ]
  },
  {
   "cell_type": "code",
   "execution_count": null,
   "metadata": {},
   "outputs": [],
   "source": [
    "x = \"dead\"\n",
    "print(id(x))\n",
    "\n",
    "x += \"beef\"\n",
    "print(x)\n",
    "print(id(x))  #immutable"
   ]
  },
  {
   "cell_type": "code",
   "execution_count": 7,
   "metadata": {},
   "outputs": [
    {
     "name": "stdout",
     "output_type": "stream",
     "text": [
      "1542061600128\n",
      "140717810857760\n",
      "1542061600128\n",
      "140717810860928\n"
     ]
    }
   ],
   "source": [
    "numTuple = ([1,2], [3,4], 0, 'A')\n",
    "print(id(numTuple[0]))\n",
    "print(id(numTuple[0][0]))\n",
    "\n",
    "#numTuple[0] = 100  #Tuple is immutable\n",
    "numTuple[0][0] = 100  #List is mutable\n",
    "print(id(numTuple[0])) \n",
    "print(id(numTuple[0][0]))"
   ]
  },
  {
   "cell_type": "code",
   "execution_count": 6,
   "metadata": {},
   "outputs": [
    {
     "name": "stdout",
     "output_type": "stream",
     "text": [
      "140717810857824\n",
      "1542050843904\n",
      "140717810860928\n",
      "1542050843904\n"
     ]
    }
   ],
   "source": [
    "num = [1, 2, [3]]\n",
    "print(id(num[2][0]))\n",
    "print(id(num[2]))\n",
    "\n",
    "num[2][0] = 100\n",
    "print(id(num[2][0]))\n",
    "print(id(num[2]))  #List is mutable"
   ]
  },
  {
   "cell_type": "code",
   "execution_count": 8,
   "metadata": {},
   "outputs": [
    {
     "name": "stdout",
     "output_type": "stream",
     "text": [
      "[[], [], []]\n",
      "1542061861312\n",
      "1542061861312\n",
      "1542061861312\n",
      "[[3], [3], [3]]\n",
      "1542061861312\n",
      "1542061861312\n",
      "1542061861312\n"
     ]
    }
   ],
   "source": [
    "lists = [[]] * 3\n",
    "print(lists)\n",
    "print(id(lists[0]))\n",
    "print(id(lists[1]))\n",
    "print(id(lists[2]))\n",
    "\n",
    "lists[0].append(3)\n",
    "print(lists)\n",
    "print(id(lists[0]))\n",
    "print(id(lists[1]))\n",
    "print(id(lists[2]))"
   ]
  },
  {
   "cell_type": "markdown",
   "metadata": {},
   "source": [
    "# 基本輸出 Print"
   ]
  },
  {
   "cell_type": "code",
   "execution_count": 6,
   "metadata": {},
   "outputs": [
    {
     "name": "stdout",
     "output_type": "stream",
     "text": [
      "City Amsterdam is in the country Netherlands.\n"
     ]
    }
   ],
   "source": [
    "city = \"Amsterdam\"\n",
    "country = \"Netherlands\"\n",
    "\n",
    "#print(\"City\", \"country\", city)\n",
    "print(\"City\", city,'is in the country', country + '.')"
   ]
  },
  {
   "cell_type": "code",
   "execution_count": 7,
   "metadata": {},
   "outputs": [
    {
     "name": "stdout",
     "output_type": "stream",
     "text": [
      "City Amsterdam is in the country Netherlands\n"
     ]
    }
   ],
   "source": [
    "city = \"Amsterdam\"\n",
    "country = \"Netherlands\"\n",
    "\n",
    "print(\"City {} is in the country {}\".format(city, country))"
   ]
  },
  {
   "cell_type": "code",
   "execution_count": null,
   "metadata": {},
   "outputs": [],
   "source": [
    "a = \"Amsterdam\"\n",
    "b = \"Netherlands\"\n",
    "\n",
    "print(\"City {1} is in the country {0}\".format(b, a))"
   ]
  },
  {
   "cell_type": "code",
   "execution_count": null,
   "metadata": {},
   "outputs": [],
   "source": [
    "print(\"City {1} is in the country {0}\".format('Netherlands', 'Amsterdam'))"
   ]
  },
  {
   "cell_type": "markdown",
   "metadata": {},
   "source": [
    "# 基本輸入 input"
   ]
  },
  {
   "cell_type": "code",
   "execution_count": null,
   "metadata": {},
   "outputs": [],
   "source": [
    "a = int(input(\"please input a numbers: \"))\n",
    "print(a)"
   ]
  },
  {
   "cell_type": "code",
   "execution_count": null,
   "metadata": {},
   "outputs": [],
   "source": [
    "a = int(input(\"input: \"))\n",
    "print(a)"
   ]
  },
  {
   "cell_type": "code",
   "execution_count": null,
   "metadata": {},
   "outputs": [],
   "source": [
    "a = input(\"please input 2 numbers: \").split()\n",
    "m, n = map(int, a)\n",
    "print(m, n)\n",
    "print(type(m))"
   ]
  },
  {
   "cell_type": "code",
   "execution_count": 1,
   "metadata": {},
   "outputs": [
    {
     "name": "stdout",
     "output_type": "stream",
     "text": [
      "1 2 3\n",
      "['1', '2', '3']\n"
     ]
    }
   ],
   "source": [
    "str = input()\n",
    "a = str.split()\n",
    "print(a)"
   ]
  },
  {
   "cell_type": "code",
   "execution_count": 3,
   "metadata": {},
   "outputs": [
    {
     "name": "stdout",
     "output_type": "stream",
     "text": [
      "['a', 'b', 'c']\n"
     ]
    }
   ],
   "source": [
    "b = \"a#b#c\".split('#')\n",
    "print(b)"
   ]
  },
  {
   "cell_type": "code",
   "execution_count": 9,
   "metadata": {
    "scrolled": true
   },
   "outputs": [
    {
     "name": "stdout",
     "output_type": "stream",
     "text": [
      "a=10,b=5\n",
      "a=5,b=10\n"
     ]
    }
   ],
   "source": [
    "#變數交換\n",
    "a,b=10,5\n",
    "print(\"a=%d,b=%d\"%(a,b))\n",
    "\n",
    "a,b=b,a\n",
    "print(\"a=%d,b=%d\"%(a,b))\n",
    "\n"
   ]
  },
  {
   "cell_type": "code",
   "execution_count": null,
   "metadata": {},
   "outputs": [],
   "source": []
  },
  {
   "cell_type": "code",
   "execution_count": null,
   "metadata": {},
   "outputs": [],
   "source": [
    "list = ['1', '2', '3']\n",
    "a, b, c = map(int, list)\n",
    "print(a, b, c)\n",
    "print(type(a))"
   ]
  },
  {
   "cell_type": "markdown",
   "metadata": {},
   "source": [
    "# 動手做 ------------------------------------------------------"
   ]
  },
  {
   "cell_type": "markdown",
   "metadata": {},
   "source": [
    "#### 題目:\n",
    "* 分別在單獨的行輸入三個數字，並列印三個數字的總和。"
   ]
  },
  {
   "cell_type": "code",
   "execution_count": 6,
   "metadata": {},
   "outputs": [
    {
     "name": "stdout",
     "output_type": "stream",
     "text": [
      "2\n",
      "3\n",
      "6\n",
      "11\n"
     ]
    }
   ],
   "source": [
    "a = int(input())\n",
    "b = int(input())\n",
    "c = int(input())\n",
    "print(a+b+c)"
   ]
  },
  {
   "cell_type": "markdown",
   "metadata": {},
   "source": [
    "# ----------------------------------------------------end"
   ]
  },
  {
   "cell_type": "markdown",
   "metadata": {},
   "source": [
    "# 動手做 ------------------------------------------------------"
   ]
  },
  {
   "cell_type": "markdown",
   "metadata": {},
   "source": [
    "#### 題目:\n",
    "* 編寫一個程式，通過列印“ Hi”和該人的名字來問候該人。\n",
    "* 範例: \n",
    " * input: John\n",
    " * output: Hi, John!"
   ]
  },
  {
   "cell_type": "code",
   "execution_count": 7,
   "metadata": {},
   "outputs": [
    {
     "name": "stdout",
     "output_type": "stream",
     "text": [
      "John\n",
      "Hi, John!\n"
     ]
    }
   ],
   "source": [
    "name = input()\n",
    "print(\"Hi,\", name+'!')"
   ]
  },
  {
   "cell_type": "markdown",
   "metadata": {},
   "source": [
    "# ----------------------------------------------------end"
   ]
  },
  {
   "cell_type": "code",
   "execution_count": null,
   "metadata": {},
   "outputs": [],
   "source": []
  },
  {
   "cell_type": "markdown",
   "metadata": {},
   "source": [
    "# HOME WORK -1 -----------------------------------"
   ]
  },
  {
   "attachments": {},
   "cell_type": "markdown",
   "metadata": {},
   "source": [
    "#### 題目:\n",
    "* 編寫一個讀取整數並列印其前一個和下一個數字的程式。\n",
    "* 請參閱範例，以獲取答案應採用的確切格式。'.'之前不應該有空格。\n",
    "* 範例: \n",
    " * input: \n",
    "    * 179\n",
    " * output: \n",
    "    * The next number for the number 179 is 180.\n",
    "    * The previous number for the number 179 is 178."
   ]
  },
  {
   "cell_type": "code",
   "execution_count": 13,
   "metadata": {},
   "outputs": [
    {
     "name": "stdout",
     "output_type": "stream",
     "text": [
      "179\n",
      "The next number for the number 179 is 180.\n",
      "The previous number for the number 179 is 178.\n"
     ]
    }
   ],
   "source": [
    "a = int(input())\n",
    "b = a + 1\n",
    "c = a - 1\n",
    "\n",
    "print('The next number for the number',a,'is',str(b)+'.')\n",
    "print('The previous number for the number',a,'is',str(c)+'.')"
   ]
  },
  {
   "cell_type": "markdown",
   "metadata": {},
   "source": [
    "# ----------------------------------------------------end"
   ]
  },
  {
   "cell_type": "markdown",
   "metadata": {},
   "source": [
    "# HOME WORK -2 -----------------------------------"
   ]
  },
  {
   "attachments": {},
   "cell_type": "markdown",
   "metadata": {},
   "source": [
    "#### 題目:\n",
    "* 計算a,b兩段時間的秒數。\n",
    "* 時間由三個數字組成：小時，分鐘和秒。給定兩段時間，計算它們之間有多少秒。\n",
    "* 範例: \n",
    " * input: \n",
    "     * 1\n",
    "     * 1\n",
    "     * 1\n",
    "     * 2\n",
    "     * 2\n",
    "     * 2\n",
    " * output: \n",
    "     * 3661"
   ]
  },
  {
   "cell_type": "code",
   "execution_count": 12,
   "metadata": {},
   "outputs": [
    {
     "name": "stdout",
     "output_type": "stream",
     "text": [
      "1\n",
      "1\n",
      "1\n",
      "2\n",
      "2\n",
      "2\n",
      "3661\n"
     ]
    }
   ],
   "source": [
    "h1 = int(input())\n",
    "m1 = int(input())\n",
    "s1 = int(input())\n",
    "x = (h1 * 60 + m1) * 60 + s1\n",
    "\n",
    "h2 = int(input())\n",
    "m2 = int(input())\n",
    "s2 = int(input())\n",
    "y = (h2 * 60 + m2) * 60 + s2\n",
    "\n",
    "z = y - x\n",
    "print(z)"
   ]
  },
  {
   "cell_type": "markdown",
   "metadata": {},
   "source": [
    "# ----------------------------------------------------end"
   ]
  }
 ],
 "metadata": {
  "celltoolbar": "Raw Cell Format",
  "kernelspec": {
   "display_name": "Python 3",
   "language": "python",
   "name": "python3"
  },
  "language_info": {
   "codemirror_mode": {
    "name": "ipython",
    "version": 3
   },
   "file_extension": ".py",
   "mimetype": "text/x-python",
   "name": "python",
   "nbconvert_exporter": "python",
   "pygments_lexer": "ipython3",
   "version": "3.8.3"
  }
 },
 "nbformat": 4,
 "nbformat_minor": 2
}
