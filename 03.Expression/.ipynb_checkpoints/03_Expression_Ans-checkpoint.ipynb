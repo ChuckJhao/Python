{
 "cells": [
  {
   "cell_type": "markdown",
   "metadata": {},
   "source": [
    "# 算術運算"
   ]
  },
  {
   "cell_type": "markdown",
   "metadata": {},
   "source": [
    "# 動手做 ------------------------------------------------------"
   ]
  },
  {
   "cell_type": "markdown",
   "metadata": {},
   "source": [
    "#### 題目: 分蘋果\n",
    "* N名學生拿起K個蘋果，並將它們均勻分配。其餘（不可分割）部分保留在購物籃中。\n",
    "* 每個學生將獲得多少個蘋果？ 籃子裡還剩下多少個蘋果？\n",
    "* 範例:\n",
    " * input: 6, 50   #N名學生拿起K個蘋果，分別換行輸入\n",
    " * output: 8, 2"
   ]
  },
  {
   "cell_type": "code",
   "execution_count": 1,
   "metadata": {},
   "outputs": [
    {
     "name": "stdout",
     "output_type": "stream",
     "text": [
      "6\n",
      "50\n",
      "8\n",
      "2\n"
     ]
    }
   ],
   "source": [
    "n = int(input())\n",
    "k = int(input())\n",
    "print(k//n)\n",
    "print(k%n)"
   ]
  },
  {
   "cell_type": "markdown",
   "metadata": {},
   "source": [
    "# ----------------------------------------------------end"
   ]
  },
  {
   "cell_type": "markdown",
   "metadata": {},
   "source": [
    "# 動手做 ------------------------------------------------------"
   ]
  },
  {
   "cell_type": "markdown",
   "metadata": {},
   "source": [
    "#### 題目: 需要多少桌子\n",
    "* 一所學校決定更換三個教室中的書桌。每張桌子坐著兩個學生。根據每個班級的學生人數，印出可以購買的最少數量的課桌。\n",
    "該程序應讀取三個整數：a，b和c這三個班級中每個班級的學生人數。\n",
    "\n",
    "* 範例說明: \n",
    "第一班有20個學生，因此需要10個課桌。\n",
    "第二班有21名學生，因此他們最多可以擁有11張桌子。\n",
    "第三班22名學生也可以使用11張書桌。因此，我們總共需要32個辦公桌。\n",
    "* 範例:\n",
    " * input: 20, 21, 22   #每個班級的學生人數分別換行輸入\n",
    " * output: 32"
   ]
  },
  {
   "cell_type": "code",
   "execution_count": 2,
   "metadata": {},
   "outputs": [
    {
     "name": "stdout",
     "output_type": "stream",
     "text": [
      "20\n",
      "21\n",
      "22\n",
      "32\n"
     ]
    }
   ],
   "source": [
    "a = int(input())\n",
    "b = int(input())\n",
    "c = int(input())\n",
    "\n",
    "print(a//2 + b//2 + c//2 + a%2 + b%2 +c%2)"
   ]
  },
  {
   "cell_type": "markdown",
   "metadata": {},
   "source": [
    "# ----------------------------------------------------end"
   ]
  },
  {
   "cell_type": "markdown",
   "metadata": {},
   "source": [
    "# 關係運算"
   ]
  },
  {
   "cell_type": "code",
   "execution_count": 4,
   "metadata": {},
   "outputs": [
    {
     "name": "stdout",
     "output_type": "stream",
     "text": [
      "False\n",
      "False\n",
      "True\n",
      "True\n"
     ]
    }
   ],
   "source": [
    "a_list = [\"a\", \"b\", \"c\", \"d\"]\n",
    "b_list = [1, 2, 3, 4]\n",
    "print(a_list is b_list)\n",
    "print(a_list == b_list)\n",
    "\n",
    "a_list = b_list\n",
    "print(a_list is b_list)\n",
    "print(a_list == b_list)"
   ]
  },
  {
   "cell_type": "code",
   "execution_count": 3,
   "metadata": {},
   "outputs": [
    {
     "name": "stdout",
     "output_type": "stream",
     "text": [
      "1796949845184\n",
      "1796949843200\n",
      "True\n",
      "False\n",
      "False\n",
      "False\n",
      "1796949843200\n",
      "1796949843200\n"
     ]
    }
   ],
   "source": [
    "a1 = ['sunny', 'bunny', 'chinny']\n",
    "print(id(a1))\n",
    "a2 = ['sunny', 'bunny', 'chinny']\n",
    "print(id(a2))\n",
    "print(a1 is not a2)\n",
    "print(a1 != a2)\n",
    "\n",
    "a1 = a2\n",
    "print(a1 is not a2)\n",
    "print(a1 != a2)\n",
    "print(id(a1))\n",
    "print(id(a2))"
   ]
  },
  {
   "cell_type": "markdown",
   "metadata": {},
   "source": [
    "# 邏輯運算"
   ]
  },
  {
   "cell_type": "code",
   "execution_count": 1,
   "metadata": {},
   "outputs": [
    {
     "name": "stdout",
     "output_type": "stream",
     "text": [
      "True False\n",
      "True True\n",
      "not a:  False\n"
     ]
    }
   ],
   "source": [
    "a = 1\n",
    "b = 2\n",
    "c = 3\n",
    "if a<b or b==c:\n",
    "    print(a<b, b==c)\n",
    "if a<b and b<c:\n",
    "    print(a<b, b<c)\n",
    "if not a:\n",
    "    print('a', a)\n",
    "else:\n",
    "    print('not a: ', not a)"
   ]
  },
  {
   "cell_type": "markdown",
   "metadata": {},
   "source": [
    "# Bitwise Operations on Integer Types"
   ]
  },
  {
   "cell_type": "code",
   "execution_count": 4,
   "metadata": {},
   "outputs": [
    {
     "name": "stdout",
     "output_type": "stream",
     "text": [
      "0x28\n",
      "0b101000\n",
      "0x18\n",
      "0b11000\n",
      "0x8\n",
      "0b1000\n"
     ]
    }
   ],
   "source": [
    "a = 40  #0010 1000\n",
    "print(hex(a))\n",
    "print(bin(int(hex(a), 16)))\n",
    "\n",
    "b = 24  #0001 1000\n",
    "print(hex(b))\n",
    "print(bin(int(hex(b), 16)))\n",
    "\n",
    "c = a & b\n",
    "print(hex(c))\n",
    "print(bin(int(hex(c), 16)))"
   ]
  },
  {
   "cell_type": "code",
   "execution_count": 2,
   "metadata": {},
   "outputs": [
    {
     "name": "stdout",
     "output_type": "stream",
     "text": [
      "0x38\n",
      "0b111000\n"
     ]
    }
   ],
   "source": [
    "a = 40  #0010 1000\n",
    "\n",
    "b = 24  #0001 1000\n",
    "\n",
    "c = a | b\n",
    "print(hex(c))\n",
    "print(bin(int(hex(c), 16)))"
   ]
  },
  {
   "cell_type": "code",
   "execution_count": 3,
   "metadata": {},
   "outputs": [
    {
     "name": "stdout",
     "output_type": "stream",
     "text": [
      "0xa0\n",
      "0b10100000\n"
     ]
    }
   ],
   "source": [
    "a = 40  #0010 1000\n",
    "\n",
    "c = a << 2\n",
    "print(hex(c))\n",
    "print(bin(int(hex(c), 16)))"
   ]
  },
  {
   "cell_type": "markdown",
   "metadata": {},
   "source": [
    "# Python Operators Precedence運算結合性"
   ]
  },
  {
   "cell_type": "code",
   "execution_count": 12,
   "metadata": {},
   "outputs": [
    {
     "name": "stdout",
     "output_type": "stream",
     "text": [
      "4\n"
     ]
    }
   ],
   "source": [
    "a = 6 / 3 * 2\n",
    "print(int(a))"
   ]
  },
  {
   "cell_type": "markdown",
   "metadata": {},
   "source": [
    "# 資料型別轉換"
   ]
  },
  {
   "cell_type": "code",
   "execution_count": 6,
   "metadata": {},
   "outputs": [
    {
     "name": "stdout",
     "output_type": "stream",
     "text": [
      "321400\n",
      "721\n"
     ]
    }
   ],
   "source": [
    "a = '321'\n",
    "b = '400'\n",
    "c = a + b\n",
    "print(c)\n",
    "\n",
    "d = int(a) + int(b)\n",
    "print(d)"
   ]
  },
  {
   "cell_type": "code",
   "execution_count": 7,
   "metadata": {},
   "outputs": [
    {
     "name": "stdout",
     "output_type": "stream",
     "text": [
      "60.259\n",
      "60\n",
      "59\n"
     ]
    }
   ],
   "source": [
    "a = 45.359\n",
    "b = 14.9\n",
    "print(a+b)\n",
    "print(int(a+b))\n",
    "print(int(a) + int(b))"
   ]
  },
  {
   "cell_type": "markdown",
   "metadata": {},
   "source": [
    "# 動手做 ------------------------------------------------------"
   ]
  },
  {
   "cell_type": "markdown",
   "metadata": {},
   "source": [
    "#### 題目: 小數點後第一位\n",
    "* 給定正整數，列印小數點右邊的第一位數字\n",
    "* 範例: \n",
    " * input: 1.79\n",
    " * output: 7"
   ]
  },
  {
   "cell_type": "code",
   "execution_count": 11,
   "metadata": {},
   "outputs": [
    {
     "name": "stdout",
     "output_type": "stream",
     "text": [
      "1.79\n",
      "7\n"
     ]
    }
   ],
   "source": [
    "a = float(input())\n",
    "print(int(a * 10) %10)"
   ]
  },
  {
   "cell_type": "markdown",
   "metadata": {},
   "source": [
    "# ----------------------------------------------------end"
   ]
  },
  {
   "cell_type": "markdown",
   "metadata": {},
   "source": [
    "# 動手做 ------------------------------------------------------"
   ]
  },
  {
   "cell_type": "markdown",
   "metadata": {},
   "source": [
    "## 題目: M公里的路線需要多少天\n",
    "* 一輛汽車每天可以行駛N公里。綿延M公里的路線需要多少天？\n",
    "* 範例: \n",
    " * input:  #行駛N公里。路線M公里分別換行輸入\n",
    "   * 700\n",
    "   * 750 \n",
    " * output: 2"
   ]
  },
  {
   "cell_type": "code",
   "execution_count": 15,
   "metadata": {},
   "outputs": [
    {
     "name": "stdout",
     "output_type": "stream",
     "text": [
      "700\n",
      "750\n",
      "2\n"
     ]
    }
   ],
   "source": [
    "import math\n",
    "n = int(input())\n",
    "m = int(input())\n",
    "c = m / n\n",
    "d = math.ceil(c)\n",
    "print(d)"
   ]
  },
  {
   "cell_type": "code",
   "execution_count": 4,
   "metadata": {},
   "outputs": [
    {
     "name": "stdout",
     "output_type": "stream",
     "text": [
      "700\n",
      "750\n",
      "2\n"
     ]
    }
   ],
   "source": [
    "from math import ceil\n",
    "n = int(input())\n",
    "m = int(input())\n",
    "print(ceil(m / n))"
   ]
  },
  {
   "cell_type": "markdown",
   "metadata": {},
   "source": [
    "# ----------------------------------------------------end"
   ]
  },
  {
   "cell_type": "markdown",
   "metadata": {},
   "source": [
    "# Import random library"
   ]
  },
  {
   "cell_type": "markdown",
   "metadata": {},
   "source": [
    "# 動手做 ------------------------------------------------------"
   ]
  },
  {
   "cell_type": "markdown",
   "metadata": {},
   "source": [
    "#### 題目:\n",
    "* 設計一支程式可以隨機產出一個11到20之間小女生的年齡(隨機產生的女生年齡)。\n",
    "* 範例: \n",
    " * output: 12"
   ]
  },
  {
   "cell_type": "code",
   "execution_count": 5,
   "metadata": {},
   "outputs": [
    {
     "name": "stdout",
     "output_type": "stream",
     "text": [
      "15\n"
     ]
    }
   ],
   "source": [
    "from random import randint\n",
    "age = randint(11, 20)\n",
    "\n",
    "print(age)"
   ]
  },
  {
   "cell_type": "markdown",
   "metadata": {},
   "source": [
    "# ----------------------------------------------------end"
   ]
  },
  {
   "cell_type": "markdown",
   "metadata": {},
   "source": [
    "# Additional Method on Integer Types"
   ]
  },
  {
   "cell_type": "code",
   "execution_count": 18,
   "metadata": {},
   "outputs": [
    {
     "data": {
      "text/plain": [
       "b'\\x04\\x00'"
      ]
     },
     "execution_count": 18,
     "metadata": {},
     "output_type": "execute_result"
    }
   ],
   "source": [
    "(1024).to_bytes(2, byteorder='big')"
   ]
  },
  {
   "cell_type": "code",
   "execution_count": null,
   "metadata": {},
   "outputs": [],
   "source": []
  },
  {
   "cell_type": "markdown",
   "metadata": {},
   "source": [
    "# HOME WORK -1 -----------------------------------"
   ]
  },
  {
   "cell_type": "markdown",
   "metadata": {},
   "source": [
    "#### 題目: 蝸牛要花幾天往上爬\n",
    "* 蝸牛在白天上升A英尺，在晚上下降B英尺。他上H高的樹要花多長時間？\n",
    "* 範例: \n",
    " * input: 10, 3, 2    #樹高H，上升A英尺，下降B英尺。分別換行輸入\n",
    " * output: 7"
   ]
  },
  {
   "cell_type": "code",
   "execution_count": 17,
   "metadata": {},
   "outputs": [
    {
     "name": "stdout",
     "output_type": "stream",
     "text": [
      "10\n",
      "3\n",
      "2\n",
      "8\n"
     ]
    }
   ],
   "source": [
    "from math import ceil\n",
    "h = int(input())\n",
    "a = int(input())\n",
    "b = int(input())\n",
    "print(ceil((h-a) / (a-b)) + 1)"
   ]
  },
  {
   "cell_type": "markdown",
   "metadata": {},
   "source": [
    "# ----------------------------------------------------end"
   ]
  },
  {
   "cell_type": "markdown",
   "metadata": {},
   "source": [
    "## HOME WORK -2 -----------------------------------"
   ]
  },
  {
   "cell_type": "markdown",
   "metadata": {},
   "source": [
    "#### 題目:\n",
    "* 設計一支程式可以讓使用者猜測11到20之間小女生的年齡(隨機產生的女生年齡)，使用者最多可猜3次。\n",
    "* 若猜的數字比真實年紀大或小，均給予提示"
   ]
  },
  {
   "cell_type": "code",
   "execution_count": 19,
   "metadata": {},
   "outputs": [
    {
     "name": "stdout",
     "output_type": "stream",
     "text": [
      "猜猜一個從11到20歲的年紀，你將有3次機會。\n",
      "猜一個年紀: 15\n",
      "猜的年紀太高\n",
      "猜一個年紀: 13\n",
      "猜的年紀太輕\n",
      "猜一個年紀: 14\n",
      "猜對了，請不要告訴其他人\n"
     ]
    }
   ],
   "source": [
    "from random import randint\n",
    "age = randint(11, 20)\n",
    "times = 1\n",
    "print(\"猜猜一個從11到20歲的年紀，你將有3次機會。\")\n",
    "\n",
    "while times <= 3:\n",
    "    guess = int(input(\"猜一個年紀: \"))\n",
    "    if guess > age:\n",
    "        print(\"猜的年紀太高\")\n",
    "    elif guess < age:\n",
    "        print(\"猜的年紀太輕\")\n",
    "    else:\n",
    "        print(\"猜對了，請不要告訴其他人\")\n",
    "    \n",
    "    times += 1\n",
    "\n"
   ]
  },
  {
   "cell_type": "markdown",
   "metadata": {},
   "source": [
    "# ----------------------------------------------------end"
   ]
  }
 ],
 "metadata": {
  "celltoolbar": "Raw Cell Format",
  "kernelspec": {
   "display_name": "Python 3",
   "language": "python",
   "name": "python3"
  },
  "language_info": {
   "codemirror_mode": {
    "name": "ipython",
    "version": 3
   },
   "file_extension": ".py",
   "mimetype": "text/x-python",
   "name": "python",
   "nbconvert_exporter": "python",
   "pygments_lexer": "ipython3",
   "version": "3.8.3"
  }
 },
 "nbformat": 4,
 "nbformat_minor": 2
}
