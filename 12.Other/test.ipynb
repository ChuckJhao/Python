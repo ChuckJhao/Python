{
 "cells": [
  {
   "cell_type": "code",
   "execution_count": null,
   "metadata": {},
   "outputs": [],
   "source": [
    "#Python get command line option, using getopt module\n",
    "import sys, getopt\n",
    "\n",
    "def main(argv):\n",
    "    inputfile = ''\n",
    "    outputfile = ''\n",
    "    try:\n",
    "        opts, args = getopt.getopt(argv,\"EAWlbp\")\n",
    "    except getopt.GetoptError:\n",
    "        print ('test.py -[EAW][lbp]')\n",
    "        sys.exit(2)\n",
    "    for opt, arg in opts:\n",
    "        if opt == '-h':\n",
    "            print ('test.py -i <inputfile> -o <outputfile>')\n",
    "            sys.exit()\n",
    "        elif opt == '-E':\n",
    "             print('-E')\n",
    "        elif opt == '-A':\n",
    "             print('-A')\n",
    "\n",
    "                \n",
    "if __name__ == \"__main__\":\n",
    "    main(sys.argv[1:])"
   ]
  }
 ],
 "metadata": {
  "kernelspec": {
   "display_name": "Python 3",
   "language": "python",
   "name": "python3"
  },
  "language_info": {
   "codemirror_mode": {
    "name": "ipython",
    "version": 3
   },
   "file_extension": ".py",
   "mimetype": "text/x-python",
   "name": "python",
   "nbconvert_exporter": "python",
   "pygments_lexer": "ipython3",
   "version": "3.7.6"
  }
 },
 "nbformat": 4,
 "nbformat_minor": 4
}
