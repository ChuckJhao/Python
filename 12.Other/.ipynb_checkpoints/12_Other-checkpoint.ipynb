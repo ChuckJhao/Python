{
 "cells": [
  {
   "cell_type": "markdown",
   "metadata": {},
   "source": [
    "# Time"
   ]
  },
  {
   "cell_type": "markdown",
   "metadata": {},
   "source": [
    "### part 1"
   ]
  },
  {
   "cell_type": "code",
   "execution_count": 2,
   "metadata": {},
   "outputs": [
    {
     "name": "stdout",
     "output_type": "stream",
     "text": [
      "2020-09-27 01:48:32.843515\n"
     ]
    }
   ],
   "source": [
    "import datetime\n",
    "\n",
    "x = datetime.datetime.now()\n",
    "\n",
    "print(x)"
   ]
  },
  {
   "cell_type": "code",
   "execution_count": 13,
   "metadata": {},
   "outputs": [
    {
     "name": "stdout",
     "output_type": "stream",
     "text": [
      "2020\n",
      "Sunday\n",
      "02\n"
     ]
    }
   ],
   "source": [
    "import datetime\n",
    "\n",
    "x = datetime.datetime.now()\n",
    "\n",
    "print(x.year)\n",
    "print(x.strftime(\"%A\"))\n",
    "print(x.strftime(\"%H\"))\n",
    "\n",
    "#https://www.w3schools.com/python/python_datetime.asp"
   ]
  },
  {
   "cell_type": "code",
   "execution_count": null,
   "metadata": {},
   "outputs": [],
   "source": []
  },
  {
   "cell_type": "markdown",
   "metadata": {},
   "source": [
    "### part 2"
   ]
  },
  {
   "cell_type": "code",
   "execution_count": 11,
   "metadata": {},
   "outputs": [
    {
     "name": "stdout",
     "output_type": "stream",
     "text": [
      "[2017, 11, 24]\n",
      "[7.0, 59.0, 25.334]\n",
      "07:59:00\n"
     ]
    }
   ],
   "source": [
    "#handle time\n",
    "from datetime import datetime, date\n",
    "\n",
    "def process_time(stime):\n",
    "    #'2017-11-24 7:59:25.334'\n",
    "\n",
    "    date1, time1 = stime.split(' ')\n",
    "    \n",
    "    date1=[int(i) for i in date1.split('-')]   #[2017, 6, 8] Y/M/D\n",
    "    time1=[float(i) for i in time1.split(':')]  #[15.0, 18.0, 25.334] H/M/S\n",
    "    \n",
    "    t=datetime(date1[0], date1[1], date1[2], int(time1[0]), int(time1[1])).time()\n",
    "\n",
    "    print(date1)\n",
    "    print(time1)\n",
    "    print(t)\n",
    "\n",
    "stime='2017-11-24 7:59:25.334'\n",
    "process_time(stime)\n"
   ]
  },
  {
   "cell_type": "code",
   "execution_count": 1,
   "metadata": {},
   "outputs": [
    {
     "data": {
      "text/plain": [
       "(4, 0)"
      ]
     },
     "execution_count": 1,
     "metadata": {},
     "output_type": "execute_result"
    }
   ],
   "source": [
    "#handle time\n",
    "from datetime import datetime,date\n",
    "\n",
    "def process_time(stime):\n",
    "    #'2017-11-24 7:59:25.334'\n",
    "    time_slot=-1\n",
    "    date1,time1= stime.split(' ')\n",
    "    date1=[int(i) for i in date1.split('-')]   #[2017, 6, 8] Y/M/D\n",
    "    time1=[float(i) for i in time1.split(':')]  #[15.0, 18.0, 25.334] H/M/S\n",
    "    t=datetime(date1[0], date1[1],date1[2],int(time1[0]),int(time1[1])).time()\n",
    "\n",
    "    t0=t.replace(hour=1,minute=0)\n",
    "    t1=t.replace(hour=9,minute=0)\n",
    "    t2=t.replace(hour=17,minute=0)\n",
    "    t3=t.replace(hour=21,minute=0)\n",
    "    #print(t)\n",
    "    #print(t0)  #01:00:00\n",
    "\n",
    "    if (t>=t0 and t<t1): #AM1:00~AM9:00\n",
    "        time_slot=0\n",
    "        \n",
    "    elif (t>=t1 and t<t2):  #AM9:00~PM17:00\n",
    "        time_slot=1\n",
    "        \n",
    "    elif (t>=t2 and t<t3): #PM17:00~PM9:00 \n",
    "        time_slot=2\n",
    "        \n",
    "    else:  # >PM 9:00\n",
    "        time_slot=3\n",
    "        \n",
    "    # weekday\n",
    "    weekday=date(date1[0], date1[1],date1[2]).weekday()   #Modnday:0, Tuesday:1 ,...Sunday:6\n",
    "    \n",
    "    return weekday, time_slot\n",
    "\n",
    "\n",
    "stime='2017-11-24 7:59:25.334'\n",
    "process_time(stime)\n"
   ]
  },
  {
   "cell_type": "code",
   "execution_count": null,
   "metadata": {},
   "outputs": [],
   "source": []
  },
  {
   "cell_type": "markdown",
   "metadata": {},
   "source": [
    "# Command Line Arguments"
   ]
  },
  {
   "cell_type": "code",
   "execution_count": 2,
   "metadata": {},
   "outputs": [
    {
     "name": "stdout",
     "output_type": "stream",
     "text": [
      "['/opt/anaconda3/lib/python3.7/site-packages/ipykernel_launcher.py', '-f', '/Users/jason/Library/Jupyter/runtime/kernel-333e4285-cbc1-42f0-8f90-e128cecbe180.json']\n"
     ]
    }
   ],
   "source": [
    "import sys\n",
    "\n",
    "print(sys.argv)"
   ]
  },
  {
   "cell_type": "code",
   "execution_count": 5,
   "metadata": {},
   "outputs": [
    {
     "name": "stdout",
     "output_type": "stream",
     "text": [
      "Number of arguments: 3 arguments.\n",
      "\n",
      "Argument List: ['/opt/anaconda3/lib/python3.7/site-packages/ipykernel_launcher.py', '-f', '/Users/jason/Library/Jupyter/runtime/kernel-333e4285-cbc1-42f0-8f90-e128cecbe180.json']\n"
     ]
    }
   ],
   "source": [
    "import sys\n",
    "\n",
    "print( 'Number of arguments:', len(sys.argv), 'arguments.')\n",
    "print()\n",
    "print( 'Argument List:', str(sys.argv))"
   ]
  },
  {
   "cell_type": "code",
   "execution_count": null,
   "metadata": {},
   "outputs": [],
   "source": []
  },
  {
   "cell_type": "markdown",
   "metadata": {},
   "source": [
    "# Example: command line argument"
   ]
  },
  {
   "cell_type": "code",
   "execution_count": 7,
   "metadata": {},
   "outputs": [
    {
     "name": "stderr",
     "output_type": "stream",
     "text": [
      "ERROR:root:Internal Python error in the inspect module.\n",
      "Below is the traceback from this internal error.\n",
      "\n"
     ]
    },
    {
     "name": "stdout",
     "output_type": "stream",
     "text": [
      "test.py -i <inputfile> -o <outputfile>\n",
      "Traceback (most recent call last):\n",
      "  File \"<ipython-input-7-46aa493d9f7c>\", line 9, in main\n",
      "    opts, args = getopt.getopt(argv,\"hi:o:\",[\"ifile=\",\"ofile=\"])\n",
      "  File \"/opt/anaconda3/lib/python3.7/getopt.py\", line 95, in getopt\n",
      "    opts, args = do_shorts(opts, args[0][1:], shortopts, args[1:])\n",
      "  File \"/opt/anaconda3/lib/python3.7/getopt.py\", line 195, in do_shorts\n",
      "    if short_has_arg(opt, shortopts):\n",
      "  File \"/opt/anaconda3/lib/python3.7/getopt.py\", line 211, in short_has_arg\n",
      "    raise GetoptError(_('option -%s not recognized') % opt, opt)\n",
      "getopt.GetoptError: option -f not recognized\n",
      "\n",
      "During handling of the above exception, another exception occurred:\n",
      "\n",
      "Traceback (most recent call last):\n",
      "  File \"/opt/anaconda3/lib/python3.7/site-packages/IPython/core/interactiveshell.py\", line 3331, in run_code\n",
      "    exec(code_obj, self.user_global_ns, self.user_ns)\n",
      "  File \"<ipython-input-7-46aa493d9f7c>\", line 28, in <module>\n",
      "    main(sys.argv[1:])\n",
      "  File \"<ipython-input-7-46aa493d9f7c>\", line 12, in main\n",
      "    sys.exit(2)\n",
      "SystemExit: 2\n",
      "\n",
      "During handling of the above exception, another exception occurred:\n",
      "\n",
      "Traceback (most recent call last):\n",
      "  File \"/opt/anaconda3/lib/python3.7/site-packages/IPython/core/ultratb.py\", line 1151, in get_records\n",
      "    return _fixed_getinnerframes(etb, number_of_lines_of_context, tb_offset)\n",
      "  File \"/opt/anaconda3/lib/python3.7/site-packages/IPython/core/ultratb.py\", line 319, in wrapped\n",
      "    return f(*args, **kwargs)\n",
      "  File \"/opt/anaconda3/lib/python3.7/site-packages/IPython/core/ultratb.py\", line 353, in _fixed_getinnerframes\n",
      "    records = fix_frame_records_filenames(inspect.getinnerframes(etb, context))\n",
      "  File \"/opt/anaconda3/lib/python3.7/inspect.py\", line 1502, in getinnerframes\n",
      "    frameinfo = (tb.tb_frame,) + getframeinfo(tb, context)\n",
      "AttributeError: 'tuple' object has no attribute 'tb_frame'\n"
     ]
    },
    {
     "ename": "SystemExit",
     "evalue": "2",
     "output_type": "error",
     "traceback": [
      "An exception has occurred, use %tb to see the full traceback.\n",
      "\u001b[0;31m---------------------------------------------------------------------------\u001b[0m",
      "\nDuring handling of the above exception, another exception occurred:\n",
      "\u001b[0;31mSystemExit\u001b[0m\u001b[0;31m:\u001b[0m 2\n"
     ]
    },
    {
     "name": "stderr",
     "output_type": "stream",
     "text": [
      "/opt/anaconda3/lib/python3.7/site-packages/IPython/core/interactiveshell.py:3339: UserWarning: To exit: use 'exit', 'quit', or Ctrl-D.\n",
      "  warn(\"To exit: use 'exit', 'quit', or Ctrl-D.\", stacklevel=1)\n"
     ]
    }
   ],
   "source": [
    "#!/usr/bin/python3\n",
    "\n",
    "import sys, getopt\n",
    "\n",
    "def main(argv):\n",
    "    inputfile = ''\n",
    "    outputfile = ''\n",
    "    \n",
    "    try:\n",
    "        opts, args = getopt.getopt(argv,\"hi:o:\",[\"ifile=\",\"ofile=\"])\n",
    "        \n",
    "    except getopt.GetoptError:\n",
    "        print('test.py -i <inputfile> -o <outputfile>')\n",
    "        sys.exit(2)\n",
    "        \n",
    "    for opt, arg in opts:\n",
    "        if opt == '-h':\n",
    "            print('test.py -i <inputfile> -o <outputfile>')\n",
    "            sys.exit()\n",
    "            \n",
    "        elif opt in (\"-i\", \"--ifile\"):\n",
    "            inputfile = arg\n",
    "            \n",
    "        elif opt in (\"-o\", \"--ofile\"):\n",
    "            outputfile = arg\n",
    "            \n",
    "    print('輸入的文件為：', inputfile)\n",
    "    print('輸出的文件為：', outputfile)\n",
    "\n",
    "    \n",
    "    \n",
    "if __name__ == \"__main__\":\n",
    "    main(sys.argv[1:])"
   ]
  },
  {
   "cell_type": "code",
   "execution_count": null,
   "metadata": {},
   "outputs": [],
   "source": []
  },
  {
   "cell_type": "code",
   "execution_count": null,
   "metadata": {},
   "outputs": [],
   "source": []
  }
 ],
 "metadata": {
  "kernelspec": {
   "display_name": "Python 3",
   "language": "python",
   "name": "python3"
  },
  "language_info": {
   "codemirror_mode": {
    "name": "ipython",
    "version": 3
   },
   "file_extension": ".py",
   "mimetype": "text/x-python",
   "name": "python",
   "nbconvert_exporter": "python",
   "pygments_lexer": "ipython3",
   "version": "3.8.3"
  }
 },
 "nbformat": 4,
 "nbformat_minor": 4
}
