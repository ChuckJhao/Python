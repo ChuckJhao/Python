{
 "cells": [
  {
   "cell_type": "markdown",
   "metadata": {},
   "source": [
    "# Common Operations for sequence type - List"
   ]
  },
  {
   "cell_type": "code",
   "execution_count": null,
   "metadata": {},
   "outputs": [],
   "source": [
    "s = [1,2,3,4,5,6,5,5,7,8,9]\n",
    "print(5 in s)\n",
    "print(s * 2)\n",
    "print(s[0])\n",
    "print(s[1:5])\n",
    "print(s.count(5))"
   ]
  },
  {
   "cell_type": "code",
   "execution_count": null,
   "metadata": {},
   "outputs": [],
   "source": [
    "list = 'Hello World'\n",
    "print(list.count('l'))"
   ]
  },
  {
   "cell_type": "markdown",
   "metadata": {},
   "source": [
    "# 動手做 ------------------------------------------------------"
   ]
  },
  {
   "cell_type": "markdown",
   "metadata": {},
   "source": [
    "#### 題目: 計算有幾個字\n",
    "* 給定一個由用空格分隔的句子組成的單字串。確定它有多少個單字。要解決此問題，請使用方法計數。\n",
    "* 範例:\n",
    " * input: In the hole in the ground there lived a hobbit\n",
    " * output: 10"
   ]
  },
  {
   "cell_type": "code",
   "execution_count": null,
   "metadata": {},
   "outputs": [],
   "source": [
    "str = input()\n",
    "number = str.count(' ') + 1\n",
    "print(number)"
   ]
  },
  {
   "cell_type": "code",
   "execution_count": null,
   "metadata": {},
   "outputs": [],
   "source": [
    "print(input().count(' ') + 1)"
   ]
  },
  {
   "cell_type": "markdown",
   "metadata": {},
   "source": [
    "# ----------------------------------------------------end"
   ]
  },
  {
   "cell_type": "code",
   "execution_count": null,
   "metadata": {},
   "outputs": [],
   "source": [
    "mylist=[1,2,4,7,0]\n",
    "for i in mylist:\n",
    "    print(i,end='')\n"
   ]
  },
  {
   "cell_type": "markdown",
   "metadata": {},
   "source": [
    "# Ranges"
   ]
  },
  {
   "cell_type": "code",
   "execution_count": null,
   "metadata": {},
   "outputs": [],
   "source": [
    "\n",
    "a=list(range(1,5))\n",
    "a+=list(range(5,10))\n",
    "print(a)          #[1, 2, 3, 4, 5, 6, 7, 8, 9]"
   ]
  },
  {
   "cell_type": "code",
   "execution_count": null,
   "metadata": {},
   "outputs": [],
   "source": [
    "\n",
    "a=list(range(1,5))\n",
    "a = a+ list(range(5,10))\n",
    "print(a)          #[1, 2, 3, 4, 5, 6, 7, 8, 9]"
   ]
  },
  {
   "cell_type": "code",
   "execution_count": null,
   "metadata": {},
   "outputs": [],
   "source": [
    "a = 3\n",
    "a = a + 5\n",
    "a"
   ]
  },
  {
   "cell_type": "code",
   "execution_count": null,
   "metadata": {},
   "outputs": [],
   "source": [
    "a = 3\n",
    "a *= 2\n",
    "a"
   ]
  },
  {
   "cell_type": "code",
   "execution_count": 8,
   "metadata": {},
   "outputs": [
    {
     "name": "stdout",
     "output_type": "stream",
     "text": [
      "[0, 0, 0]\n",
      "[(1, 2), (1, 2), (1, 2)]\n",
      "[[], [], []]\n",
      "2123002702848\n",
      "2123002702848\n",
      "[[], [], []]\n",
      "2123003125248\n",
      "2123003125184\n"
     ]
    }
   ],
   "source": [
    "print([0]*3)    #[0, 0, 0]\n",
    "b = [(1,2)]*3   #[(1, 2), (1, 2), (1, 2)]\n",
    "print(b)\n",
    "c = [[]]*3      #[[], [], []]\n",
    "print(c)\n",
    "print(id(c[0]))\n",
    "print(id(c[1]))\n",
    "\n",
    "\n",
    "d = [list() for i in range(3)]  #[[], [], []]\n",
    "print(d)\n",
    "print(id(d[0]))\n",
    "print(id(d[1]))\n"
   ]
  },
  {
   "cell_type": "code",
   "execution_count": null,
   "metadata": {},
   "outputs": [],
   "source": [
    "x = []\n",
    "for i in range(12):\n",
    "    x.append([])\n",
    "    for j in range(3):\n",
    "        x[i].append(j)\n",
    "\n",
    "print(x)\n",
    "print('---------------')\n",
    "x[0]=[100,200,300,400]\n",
    "x[1]=[3,3,3,3]\n",
    "print(x)\n",
    "print(x[1])\n",
    "print(x[0][2])"
   ]
  },
  {
   "cell_type": "code",
   "execution_count": null,
   "metadata": {},
   "outputs": [],
   "source": [
    "for i in range(1, 5):\n",
    "    print(i)"
   ]
  },
  {
   "cell_type": "code",
   "execution_count": null,
   "metadata": {},
   "outputs": [],
   "source": []
  },
  {
   "cell_type": "code",
   "execution_count": null,
   "metadata": {},
   "outputs": [],
   "source": []
  },
  {
   "cell_type": "code",
   "execution_count": null,
   "metadata": {},
   "outputs": [],
   "source": []
  },
  {
   "cell_type": "code",
   "execution_count": null,
   "metadata": {},
   "outputs": [],
   "source": []
  },
  {
   "cell_type": "code",
   "execution_count": null,
   "metadata": {},
   "outputs": [],
   "source": []
  },
  {
   "cell_type": "code",
   "execution_count": 9,
   "metadata": {},
   "outputs": [
    {
     "name": "stdout",
     "output_type": "stream",
     "text": [
      "2123002702784\n",
      "2123002702784\n",
      "mylist1--> [[1, 2, 3], [4, 5, 6]]\n",
      "mylist2--> [[5, 5, 6]]\n",
      "mylist2--> [[5, 6, 6], [5, 6, 6]]\n",
      "mylist3--> [[5, 5, 6]]\n",
      "mylist3--> [[5, 5, 6], [4, 6, 6]]\n"
     ]
    }
   ],
   "source": [
    "#list, dict 內部只是reference某一個元素,而不是copy \n",
    "\n",
    "a=[1,2,3]\n",
    "mylist=[]\n",
    "print(id(mylist))\n",
    "mylist.append(a)\n",
    "a=[4,5,6]\n",
    "print(id(mylist))\n",
    "mylist.append(a)\n",
    "print('mylist1-->',mylist)  #兩次append的a, refenece 到不同object id, \n",
    "       \n",
    "mylist2=[]\n",
    "for i in range(2):\n",
    "    a[i]+=1\n",
    "    mylist2.append(a)\n",
    "    #print(id(a))  \n",
    "    print('mylist2-->',mylist2)   \n",
    "                     \n",
    "mylist3=[]\n",
    "for i in range(2):\n",
    "    b=[4,5,6]  # reset b\n",
    "    b[i]+=1\n",
    "    #print(id(b))\n",
    "    mylist3.append(b) \n",
    "    print('mylist3-->',mylist3)\n"
   ]
  },
  {
   "cell_type": "code",
   "execution_count": 9,
   "metadata": {},
   "outputs": [
    {
     "name": "stdout",
     "output_type": "stream",
     "text": [
      "2182728870720\n",
      "2182728870400\n",
      "mylist1--> [[1, 2, 3], [4, 5, 6]]\n",
      "mylist2--> [[5, 5, 6]]\n",
      "mylist2--> [[5, 6, 6], [5, 6, 6]]\n",
      "mylist3--> [[5, 5, 6]]\n",
      "mylist3--> [[5, 5, 6], [4, 6, 6]]\n"
     ]
    }
   ],
   "source": [
    "#list, dict 內部只是reference某一個元素,而不是copy \n",
    "\n",
    "a=[1,2,3]\n",
    "mylist=[]\n",
    "print(id(a))\n",
    "mylist.append(a)\n",
    "a=[4,5,6]\n",
    "print(id(a))\n",
    "mylist.append(a)\n",
    "print('mylist1-->',mylist)  #兩次append的a, refenece 到不同object id, \n",
    "       \n",
    "mylist2=[]\n",
    "for i in range(2):\n",
    "    a[i]+=1\n",
    "    mylist2.append(a)\n",
    "    #print(id(a))  \n",
    "    print('mylist2-->',mylist2)   \n",
    "                     \n",
    "mylist3=[]\n",
    "for i in range(2):\n",
    "    b=[4,5,6]  # reset b\n",
    "    b[i]+=1\n",
    "    #print(id(b))\n",
    "    mylist3.append(b) \n",
    "    print('mylist3-->',mylist3)\n"
   ]
  },
  {
   "cell_type": "code",
   "execution_count": 10,
   "metadata": {},
   "outputs": [
    {
     "name": "stdout",
     "output_type": "stream",
     "text": [
      "() <class 'tuple'>\n",
      "(5,) <class 'tuple'>\n",
      "(5,) <class 'tuple'>\n",
      "(5,) <class 'tuple'>\n",
      "5\n"
     ]
    }
   ],
   "source": [
    "x = ()\n",
    "print(x, type(x))\n",
    "\n",
    "x = 5,\n",
    "print(x, type(x))\n",
    "\n",
    "x = (5,)\n",
    "print(x, type(x))\n",
    "\n",
    "x = (1, 2, [2])\n",
    "x = (5,)\n",
    "print(x, type(x))\n",
    "\n",
    "print(x[0])"
   ]
  },
  {
   "cell_type": "code",
   "execution_count": 11,
   "metadata": {},
   "outputs": [
    {
     "name": "stdout",
     "output_type": "stream",
     "text": [
      "[0, 0, 0, 0]\n"
     ]
    }
   ],
   "source": [
    "mylist=[]\n",
    "h = 4\n",
    "\n",
    "Matrix = [0 for x in range(h)] \n",
    "print(Matrix)"
   ]
  },
  {
   "cell_type": "code",
   "execution_count": 12,
   "metadata": {},
   "outputs": [
    {
     "name": "stdout",
     "output_type": "stream",
     "text": [
      "[0, 1, 2, 3]\n"
     ]
    }
   ],
   "source": [
    "mylist=[]\n",
    "h = 4\n",
    "\n",
    "Matrix = [x for x in range(h)] \n",
    "print(Matrix)"
   ]
  },
  {
   "cell_type": "code",
   "execution_count": 13,
   "metadata": {},
   "outputs": [
    {
     "name": "stdout",
     "output_type": "stream",
     "text": [
      "[[0, 0, 0, 0], [0, 0, 0, 0], [0, 0, 0, 0], [0, 0, 0, 0], [0, 0, 0, 0]]\n",
      "[[[0, 4, 0, 0], [0, 0, 0, 0], [0, 0, 0, 0], [0, 0, 0, 0], [0, 0, 0, 0]]]\n",
      "[[0, 4, 0, 0], [0, 0, 0, 0], [0, 0, 0, 0], [0, 0, 0, 0], [0, 0, 0, 0]]\n",
      "[0, 4, 0, 0]\n",
      "4\n",
      "[0, 4, 0, 0]\n",
      "[0, 0, 0, 0]\n",
      "[0, 0, 0, 0]\n",
      "[0, 0, 0, 0]\n",
      "[0, 0, 0, 0]\n"
     ]
    }
   ],
   "source": [
    "#多維陣列 (2,4)\n",
    "mylist=[]\n",
    "w, h = 5, 4;\n",
    "\n",
    "Matrix = [[0 for x in range(h)] for y in range(w)] \n",
    "print(Matrix)\n",
    "Matrix[0][1]=4\n",
    "mylist.append(Matrix)\n",
    "\n",
    "print(mylist)\n",
    "print(mylist[0])\n",
    "print(mylist[0][0])\n",
    "print(mylist[0][0][1])\n",
    "\n",
    "\n",
    "for i in  mylist:\n",
    "    for j in i:\n",
    "        print(j)\n"
   ]
  },
  {
   "cell_type": "markdown",
   "metadata": {},
   "source": [
    "## Tuple Example\n"
   ]
  },
  {
   "cell_type": "code",
   "execution_count": 11,
   "metadata": {},
   "outputs": [
    {
     "name": "stdout",
     "output_type": "stream",
     "text": [
      "1\n",
      "2\n",
      "3\n",
      "4\n",
      "[1, 2, 3, 4]\n",
      "[5, 6, 7, 8]\n"
     ]
    }
   ],
   "source": [
    "# for a,b var in [(tuple),(tuple)]\n",
    "\n",
    "for i in range(1,5):\n",
    "    print(i)\n",
    "\n",
    "x=[1,2,3,4]\n",
    "y=[5,6,7,8]\n",
    "\n",
    "for a in [(x, \"Incremental PCA\",100), (y, \"PCA\",200)]:\n",
    "    print(a[0])\n"
   ]
  },
  {
   "cell_type": "code",
   "execution_count": 15,
   "metadata": {},
   "outputs": [
    {
     "name": "stdout",
     "output_type": "stream",
     "text": [
      "Incremental PCA\n",
      "PCA\n"
     ]
    }
   ],
   "source": [
    "x=[1,2,3,4]\n",
    "y=[5,6,7,8]\n",
    "\n",
    "for a, b, c in [(x, \"Incremental PCA\",100), (y, \"PCA\",200)]:\n",
    "    print(b)"
   ]
  },
  {
   "cell_type": "markdown",
   "metadata": {},
   "source": [
    "# 動手做 ------------------------------------------------------"
   ]
  },
  {
   "cell_type": "markdown",
   "metadata": {},
   "source": [
    "#### 題目: 從1到N的所有奇數\n",
    "* 給定整數N，按升序列印從1到N的所有奇數。\n",
    "* 範例:\n",
    " * input: 12\n",
    " * output: \n",
    "1\n",
    "3\n",
    "5\n",
    "7\n",
    "9\n",
    "11\n"
   ]
  },
  {
   "cell_type": "code",
   "execution_count": 12,
   "metadata": {},
   "outputs": [
    {
     "name": "stdout",
     "output_type": "stream",
     "text": [
      "12\n",
      "1\n",
      "3\n",
      "5\n",
      "7\n",
      "9\n",
      "11\n"
     ]
    }
   ],
   "source": [
    "a = int(input())\n",
    "\n",
    "for i in range(1, a+1, 2):\n",
    "    print(i)"
   ]
  },
  {
   "cell_type": "code",
   "execution_count": 15,
   "metadata": {},
   "outputs": [
    {
     "name": "stdout",
     "output_type": "stream",
     "text": [
      "1\n",
      "3\n",
      "5\n",
      "7\n",
      "9\n",
      "11\n"
     ]
    }
   ],
   "source": [
    "a = 12\n",
    "\n",
    "for i in range(1, a, 2):\n",
    "    print(i)"
   ]
  },
  {
   "cell_type": "markdown",
   "metadata": {},
   "source": [
    "# ----------------------------------------------------end"
   ]
  },
  {
   "cell_type": "markdown",
   "metadata": {},
   "source": [
    "# Test Sequence Type - String"
   ]
  },
  {
   "cell_type": "code",
   "execution_count": 16,
   "metadata": {},
   "outputs": [
    {
     "name": "stdout",
     "output_type": "stream",
     "text": [
      "dictionary\n",
      " is necessary\n",
      "Hello, asdfg hjjjj jkkk World\n"
     ]
    },
    {
     "data": {
      "text/plain": [
       "'\\nprint\\n'"
      ]
     },
     "execution_count": 16,
     "metadata": {},
     "output_type": "execute_result"
    }
   ],
   "source": [
    "a = '''dictionary\n",
    " is necessary'''\n",
    "print(a)\n",
    "\n",
    "b = \"Hello, asdfg \\\n",
    "hjjjj jkkk World\"\n",
    "print(b)\n",
    "\n",
    "\n",
    "'''\n",
    "print\n",
    "'''"
   ]
  },
  {
   "cell_type": "markdown",
   "metadata": {},
   "source": [
    "# Test Sequence Type - example"
   ]
  },
  {
   "cell_type": "code",
   "execution_count": null,
   "metadata": {},
   "outputs": [],
   "source": [
    "s = 'This will insert one \\\\ (backslash)'\n",
    "print(s, '\\n')\n",
    "\n",
    "s = 'It\\'s a string'\n",
    "print(s, '\\n')\n",
    "\n",
    "txt = \"Hello\\nWorld!\"\n",
    "print(txt, '\\n')\n",
    "\n",
    "txt = \"Good\\rMorning!\"\n",
    "print(txt, '\\n') \n",
    "\n",
    "txt = \"Nice to meet\\t you!\"\n",
    "print(txt, '\\n')\n",
    "\n",
    "#A backslash followed by three integers will result in a octal value:\n",
    "txt = \"\\110\\145\\154\\154\\157\"\n",
    "print(txt, '\\n')\n",
    "\n",
    "#This example erases one character (backspace):\n",
    "txt = \"My \\bGod!\"\n",
    "print(txt, '\\n')\n",
    "\n",
    "#A backslash followed by an 'x' and a hex number represents a hex value:\n",
    "txt = \"\\x48\\x65\\x6c\\x6c\\x6f\"\n",
    "print(txt, '\\n')"
   ]
  },
  {
   "cell_type": "markdown",
   "metadata": {},
   "source": [
    "# 動手做 ------------------------------------------------------"
   ]
  },
  {
   "cell_type": "markdown",
   "metadata": {},
   "source": [
    "#### 題目: 列印偶數\n",
    "* 給定一個數字列表，查找並打印所有為偶數的元素。在這種情況下，請使用for循環遍列列表，而不是遍列其索引！也就是說，不要使用range（）\n",
    "* 範例:\n",
    " * input: 44 -51 32 -60 -7 -67 62 91 26 -14\n",
    " * output: 44 32 -60 62 26 -14"
   ]
  },
  {
   "cell_type": "code",
   "execution_count": 26,
   "metadata": {},
   "outputs": [
    {
     "name": "stdout",
     "output_type": "stream",
     "text": [
      "44 -51 32 -60 -7 -67 62 91 26 -14\n",
      "[44, -51, 32, -60, -7, -67, 62, 91, 26, -14]\n",
      "44\n",
      "32\n",
      "-60\n",
      "62\n",
      "26\n",
      "-14\n"
     ]
    }
   ],
   "source": [
    "a = [int(i) for i in input().split()]\n",
    "\n",
    "print(a)\n",
    "\n",
    "for elem in a:\n",
    "    if elem % 2 == 0:\n",
    "        print(elem)"
   ]
  },
  {
   "cell_type": "code",
   "execution_count": 17,
   "metadata": {},
   "outputs": [
    {
     "name": "stdout",
     "output_type": "stream",
     "text": [
      "44 -51 32 -60 -7 -67 62 91 26 -14\n",
      "44\n",
      "32\n",
      "-60\n",
      "62\n",
      "26\n",
      "-14\n"
     ]
    }
   ],
   "source": [
    "a = [int(i) for i in input().split()]\n",
    "\n",
    "for i in range(len(a)):\n",
    "    if a[i] % 2 == 0:\n",
    "        print(a[i])"
   ]
  },
  {
   "cell_type": "code",
   "execution_count": null,
   "metadata": {},
   "outputs": [],
   "source": [
    "data = input().split('#')\n",
    "print(data)"
   ]
  },
  {
   "cell_type": "code",
   "execution_count": null,
   "metadata": {},
   "outputs": [],
   "source": [
    "for i in [1,5,7]:\n",
    "    print(i)"
   ]
  },
  {
   "cell_type": "code",
   "execution_count": null,
   "metadata": {},
   "outputs": [],
   "source": [
    "data = input().split()\n",
    "print(data)\n",
    "print()\n",
    "\n",
    "for i in range(len(data)):\n",
    "    print(data[i])\n",
    "\n",
    "print()\n",
    "for j in range(len(data)):\n",
    "    if int(data[j]) % 2 == 0:\n",
    "        print(data[j])"
   ]
  },
  {
   "cell_type": "markdown",
   "metadata": {},
   "source": [
    "# ----------------------------------------------------end"
   ]
  },
  {
   "cell_type": "code",
   "execution_count": null,
   "metadata": {},
   "outputs": [],
   "source": []
  },
  {
   "cell_type": "markdown",
   "metadata": {},
   "source": [
    "# int, hex, char, string的轉換"
   ]
  },
  {
   "cell_type": "code",
   "execution_count": 73,
   "metadata": {},
   "outputs": [
    {
     "name": "stdout",
     "output_type": "stream",
     "text": [
      "abcd\n"
     ]
    }
   ],
   "source": [
    "string = '61626364'\n",
    "\n",
    "a = ''.join([chr(int(string[i:i+2], 16)) for i in range(0, len(string), 2)]) # '61626364'\n",
    "print(a)"
   ]
  },
  {
   "cell_type": "code",
   "execution_count": 61,
   "metadata": {},
   "outputs": [
    {
     "name": "stdout",
     "output_type": "stream",
     "text": [
      "[0, 2, 4, 6]\n"
     ]
    }
   ],
   "source": [
    "string = '61626364'\n",
    "a = [i for i in range(0, len(string), 2)]\n",
    "\n",
    "print(a)"
   ]
  },
  {
   "cell_type": "code",
   "execution_count": 66,
   "metadata": {},
   "outputs": [
    {
     "name": "stdout",
     "output_type": "stream",
     "text": [
      "a\n"
     ]
    }
   ],
   "source": [
    "string = '61626364'\n",
    "x = chr(int('0x61', 16))\n",
    "\n",
    "print(x)"
   ]
  },
  {
   "cell_type": "code",
   "execution_count": 65,
   "metadata": {},
   "outputs": [
    {
     "name": "stdout",
     "output_type": "stream",
     "text": [
      "a\n"
     ]
    }
   ],
   "source": [
    "string = '61626364'\n",
    "x = chr(int(string[0:0+2], 16))\n",
    "\n",
    "print(x)"
   ]
  },
  {
   "cell_type": "code",
   "execution_count": 61,
   "metadata": {},
   "outputs": [
    {
     "name": "stdout",
     "output_type": "stream",
     "text": [
      "[0, 2, 4, 6]\n"
     ]
    }
   ],
   "source": [
    "string = '61626364'\n",
    "a = [i for i in range(0, len(string), 2)]\n",
    "\n",
    "print(a)"
   ]
  },
  {
   "cell_type": "code",
   "execution_count": 60,
   "metadata": {},
   "outputs": [
    {
     "name": "stdout",
     "output_type": "stream",
     "text": [
      "61626364\n"
     ]
    }
   ],
   "source": [
    "string = 'abcd'\n",
    "\n",
    "a = ''.join([hex(ord(x))[2:] for x in string]) # '61626364'\n",
    "print(a)"
   ]
  },
  {
   "cell_type": "code",
   "execution_count": 57,
   "metadata": {},
   "outputs": [
    {
     "name": "stdout",
     "output_type": "stream",
     "text": [
      "['61', '62', '63', '64']\n"
     ]
    }
   ],
   "source": [
    "string = 'abcd'\n",
    "\n",
    "a = [hex(ord(x))[2:] for x in string] # '61626364'\n",
    "print(a)"
   ]
  },
  {
   "cell_type": "code",
   "execution_count": 53,
   "metadata": {},
   "outputs": [
    {
     "name": "stdout",
     "output_type": "stream",
     "text": [
      "abcd\n",
      "['61', '62', '63', '64']\n"
     ]
    }
   ],
   "source": [
    "string = 'abcd'\n",
    "print(string)\n",
    "\n",
    "a = [hex(ord(x))[2:] for x in string] # '61626364'\n",
    "print(a)"
   ]
  },
  {
   "cell_type": "code",
   "execution_count": 55,
   "metadata": {},
   "outputs": [
    {
     "name": "stdout",
     "output_type": "stream",
     "text": [
      "0x61\n"
     ]
    }
   ],
   "source": [
    "\n",
    "a = hex(ord('a'))\n",
    "print(a)"
   ]
  },
  {
   "cell_type": "code",
   "execution_count": 56,
   "metadata": {},
   "outputs": [
    {
     "name": "stdout",
     "output_type": "stream",
     "text": [
      "61\n"
     ]
    }
   ],
   "source": [
    "\n",
    "a = hex(ord('a'))[2:]\n",
    "print(a)"
   ]
  },
  {
   "cell_type": "code",
   "execution_count": 52,
   "metadata": {},
   "outputs": [
    {
     "name": "stdout",
     "output_type": "stream",
     "text": [
      "abcd\n",
      "['a', 'b', 'c', 'd']\n"
     ]
    }
   ],
   "source": [
    "string = 'abcd'\n",
    "print(string)\n",
    "\n",
    "a = [x for x in string] # '61626364'\n",
    "print(a)"
   ]
  },
  {
   "cell_type": "code",
   "execution_count": 51,
   "metadata": {},
   "outputs": [
    {
     "name": "stdout",
     "output_type": "stream",
     "text": [
      "1234\n",
      "['1', '2', '3', '4']\n"
     ]
    }
   ],
   "source": [
    "string = '1234'\n",
    "print(string)\n",
    "\n",
    "\n",
    "a = [x for x in string] # '61626364'\n",
    "print(a)"
   ]
  },
  {
   "cell_type": "code",
   "execution_count": 50,
   "metadata": {},
   "outputs": [
    {
     "name": "stdout",
     "output_type": "stream",
     "text": [
      "1234\n",
      "[0, 1, 2, 3]\n"
     ]
    }
   ],
   "source": [
    "string = '1234'\n",
    "print(string)\n",
    "\n",
    "\n",
    "a = [x for x in range(4)] # '61626364'\n",
    "print(a)"
   ]
  },
  {
   "cell_type": "code",
   "execution_count": 49,
   "metadata": {},
   "outputs": [
    {
     "name": "stdout",
     "output_type": "stream",
     "text": [
      "1234\n",
      "[0, 1, 2, 3]\n"
     ]
    }
   ],
   "source": [
    "string = '1234'\n",
    "print(string)\n",
    "\n",
    "string[0]\n",
    "h = 4\n",
    "\n",
    "Matrix = [x for x in range(h)] \n",
    "print(Matrix)"
   ]
  },
  {
   "cell_type": "code",
   "execution_count": 33,
   "metadata": {},
   "outputs": [
    {
     "ename": "SyntaxError",
     "evalue": "invalid character in identifier (<ipython-input-33-5e3d1fa31851>, line 2)",
     "output_type": "error",
     "traceback": [
      "\u001b[1;36m  File \u001b[1;32m\"<ipython-input-33-5e3d1fa31851>\"\u001b[1;36m, line \u001b[1;32m2\u001b[0m\n\u001b[1;33m    a = ''.join([hex(ord(x))[2:] for x in string])  # '61626364'\u001b[0m\n\u001b[1;37m                                                  ^\u001b[0m\n\u001b[1;31mSyntaxError\u001b[0m\u001b[1;31m:\u001b[0m invalid character in identifier\n"
     ]
    }
   ],
   "source": [
    "string = 'abcd'\n",
    "a = ''.join([hex(ord(x))[2:] for x in string])  # '61626364'\n",
    "print(a)"
   ]
  },
  {
   "cell_type": "code",
   "execution_count": 29,
   "metadata": {},
   "outputs": [
    {
     "name": "stdout",
     "output_type": "stream",
     "text": [
      "hellogoodboydoiido\n"
     ]
    }
   ],
   "source": [
    "seq1 = ['hello','good','boy','doiido']\n",
    "print(''.join(seq1))"
   ]
  },
  {
   "cell_type": "code",
   "execution_count": 30,
   "metadata": {},
   "outputs": [
    {
     "name": "stdout",
     "output_type": "stream",
     "text": [
      "hello-good-boy-doiido\n"
     ]
    }
   ],
   "source": [
    "seq1 = ['hello','good','boy','doiido']\n",
    "print('-'.join(seq1))"
   ]
  },
  {
   "cell_type": "code",
   "execution_count": 31,
   "metadata": {},
   "outputs": [
    {
     "name": "stdout",
     "output_type": "stream",
     "text": [
      "hello-good-boy-doiido\n"
     ]
    }
   ],
   "source": [
    "str = '-'\n",
    "seq1 = ['hello','good','boy','doiido']\n",
    "print(str.join(seq1))"
   ]
  },
  {
   "cell_type": "code",
   "execution_count": 17,
   "metadata": {},
   "outputs": [
    {
     "name": "stdout",
     "output_type": "stream",
     "text": [
      "65 <class 'int'>\n",
      "A <class 'str'>\n"
     ]
    }
   ],
   "source": [
    "x = ord('A')\n",
    "print(x, type(x))\n",
    "\n",
    "y = chr(65)\n",
    "print(y, type(y))"
   ]
  },
  {
   "cell_type": "code",
   "execution_count": null,
   "metadata": {},
   "outputs": [],
   "source": []
  },
  {
   "cell_type": "code",
   "execution_count": null,
   "metadata": {},
   "outputs": [],
   "source": []
  },
  {
   "cell_type": "code",
   "execution_count": null,
   "metadata": {},
   "outputs": [],
   "source": []
  },
  {
   "cell_type": "markdown",
   "metadata": {},
   "source": [
    "# ----------------------------------------------------end"
   ]
  },
  {
   "cell_type": "markdown",
   "metadata": {},
   "source": [
    "# HOME WORK -1 -----------------------------------"
   ]
  },
  {
   "cell_type": "markdown",
   "metadata": {},
   "source": [
    "#### 題目: 找出最大數字，並標示位置\n",
    "* 給定數字列表。確定列表中具有最大值的元素。列印最大元素的值，然後打印索引號。如果最高元素不是唯一的，則打印第一個實例的索引。\n",
    "* 範例:\n",
    " * input: 1 2 3 2 1\n",
    " * output: 3 2\n"
   ]
  },
  {
   "cell_type": "code",
   "execution_count": 6,
   "metadata": {},
   "outputs": [
    {
     "name": "stdout",
     "output_type": "stream",
     "text": [
      "1 2 3 2 1\n",
      "3 2\n"
     ]
    }
   ],
   "source": [
    "a = [int(i) for i in input().split()]\n",
    "index_big = 0\n",
    "\n",
    "for i in range(1, len(a)):\n",
    "    if a[i] > a[index_big]:\n",
    "        index_big = i\n",
    "        \n",
    "print(a[index_big], index_big)\n",
    "\n"
   ]
  },
  {
   "cell_type": "code",
   "execution_count": 1,
   "metadata": {},
   "outputs": [
    {
     "name": "stdout",
     "output_type": "stream",
     "text": [
      "1 2 3 2 1\n",
      "3 2\n"
     ]
    }
   ],
   "source": [
    "a = [int(i) for i in input().split()]\n",
    "\n",
    "\n",
    "        \n",
    "print(max(a), a.index(max(a)))"
   ]
  },
  {
   "cell_type": "code",
   "execution_count": 2,
   "metadata": {},
   "outputs": [
    {
     "name": "stdout",
     "output_type": "stream",
     "text": [
      "1 2 3 2 1\n",
      "3\n"
     ]
    }
   ],
   "source": [
    "a = [int(i) for i in input().split()]\n",
    "\n",
    "b = max(a)\n",
    "        \n",
    "print(b)"
   ]
  },
  {
   "cell_type": "code",
   "execution_count": 7,
   "metadata": {},
   "outputs": [
    {
     "name": "stdout",
     "output_type": "stream",
     "text": [
      "1\n"
     ]
    }
   ],
   "source": [
    "a = [1, 2, 3, 2, 1]\n",
    "\n",
    "c = a.index(2)\n",
    "        \n",
    "print(c)"
   ]
  },
  {
   "cell_type": "code",
   "execution_count": 2,
   "metadata": {},
   "outputs": [
    {
     "name": "stdout",
     "output_type": "stream",
     "text": [
      "1 2 3 2 1\n",
      "[1, 2, 3, 2, 1]\n"
     ]
    }
   ],
   "source": [
    "a = [int(i) for i in input().split()]\n",
    "\n",
    "print(a)"
   ]
  },
  {
   "cell_type": "code",
   "execution_count": 4,
   "metadata": {},
   "outputs": [
    {
     "name": "stdout",
     "output_type": "stream",
     "text": [
      "1 2 3 2 1\n",
      "1 2 3 2 1\n",
      "['1', '2', '3', '2', '1']\n",
      "['1', '2', '3', '2', '1']\n",
      "[1, 2, 3, 2, 1]\n"
     ]
    }
   ],
   "source": [
    "x = input()\n",
    "print(x)\n",
    "\n",
    "y = x.split()\n",
    "print(y)\n",
    "\n",
    "a = [i for i in y]\n",
    "print(a)\n",
    "\n",
    "b = [int(i) for i in y]\n",
    "print(b)"
   ]
  },
  {
   "cell_type": "markdown",
   "metadata": {},
   "source": [
    "# ----------------------------------------------------end"
   ]
  },
  {
   "cell_type": "markdown",
   "metadata": {},
   "source": [
    "# HOME WORK -2 -----------------------------------"
   ]
  },
  {
   "cell_type": "markdown",
   "metadata": {},
   "source": [
    "#### int, hex, char, string轉換"
   ]
  },
  {
   "cell_type": "code",
   "execution_count": 17,
   "metadata": {},
   "outputs": [
    {
     "name": "stdout",
     "output_type": "stream",
     "text": [
      "65 <class 'int'>\n",
      "A <class 'str'>\n"
     ]
    }
   ],
   "source": [
    "x = ord('A')\n",
    "print(x, type(x))\n",
    "\n",
    "y = chr(65)\n",
    "print(y, type(y))"
   ]
  },
  {
   "cell_type": "code",
   "execution_count": 24,
   "metadata": {},
   "outputs": [
    {
     "name": "stdout",
     "output_type": "stream",
     "text": [
      "w\n",
      "e\n",
      " \n",
      "d\n",
      "a\n",
      "n\n",
      "c\n",
      "e\n",
      "d\n",
      " \n",
      "t\n",
      "h\n",
      "e\n",
      " \n",
      "m\n",
      "a\n",
      "m\n",
      "u\n",
      "s\n",
      "h\n",
      "k\n",
      "a\n",
      " \n",
      "a\n",
      "t\n",
      " \n",
      "w\n",
      "a\n",
      "t\n",
      "e\n",
      "r\n",
      "l\n",
      "o\n",
      "o\n"
     ]
    }
   ],
   "source": [
    "s = 'we danced the mamushka at waterloo'\n",
    "\n",
    "for word in s:\n",
    "    print(word)\n",
    "      "
   ]
  },
  {
   "cell_type": "code",
   "execution_count": 25,
   "metadata": {},
   "outputs": [
    {
     "name": "stdout",
     "output_type": "stream",
     "text": [
      "WE\u0000DANCED\u0000THE\u0000MAMUSHKA\u0000AT\u0000WATERLOO"
     ]
    }
   ],
   "source": [
    "s = 'we danced the mamushka at waterloo'\n",
    "\n",
    "for word in s:\n",
    "    print(chr(ord(word) - ord('a') + ord('A')), end='')  "
   ]
  },
  {
   "cell_type": "code",
   "execution_count": 20,
   "metadata": {},
   "outputs": [
    {
     "name": "stdout",
     "output_type": "stream",
     "text": [
      "w e   d a n c e d   t h e   m a m u s h k a   a t   w a t e r l o o "
     ]
    }
   ],
   "source": [
    "s = 'we danced the mamushka at waterloo'\n",
    "\n",
    "for word in s:\n",
    "    print(word, end=' ')\n",
    "      "
   ]
  },
  {
   "cell_type": "code",
   "execution_count": 21,
   "metadata": {},
   "outputs": [
    {
     "name": "stdout",
     "output_type": "stream",
     "text": [
      "w\n",
      "e\n",
      " \n",
      "d\n",
      "a\n",
      "n\n",
      "c\n",
      "e\n",
      "d\n",
      " \n",
      "t\n",
      "h\n",
      "e\n",
      " \n",
      "m\n",
      "a\n",
      "m\n",
      "u\n",
      "s\n",
      "h\n",
      "k\n",
      "a\n",
      " \n",
      "a\n",
      "t\n",
      " \n",
      "w\n",
      "a\n",
      "t\n",
      "e\n",
      "r\n",
      "l\n",
      "o\n",
      "o\n"
     ]
    }
   ],
   "source": [
    "s = 'we danced the mamushka at waterloo'\n",
    "\n",
    "for word in s:\n",
    "    for i in word:\n",
    "        print(i)\n",
    "      "
   ]
  },
  {
   "cell_type": "code",
   "execution_count": 22,
   "metadata": {},
   "outputs": [
    {
     "name": "stdout",
     "output_type": "stream",
     "text": [
      "WE\u0000DANCED\u0000THE\u0000MAMUSHKA\u0000AT\u0000WATERLOO"
     ]
    }
   ],
   "source": [
    "s = 'we danced the mamushka at waterloo'\n",
    "\n",
    "for word in s:\n",
    "    for i in word:\n",
    "        print(chr(ord(i) - ord('a') + ord('A')), end='')\n",
    "      "
   ]
  },
  {
   "cell_type": "code",
   "execution_count": 23,
   "metadata": {},
   "outputs": [
    {
     "name": "stdout",
     "output_type": "stream",
     "text": [
      "W\n"
     ]
    }
   ],
   "source": [
    "s = 'w'\n",
    "\n",
    "x = chr(ord(s) - ord('a') + ord('A'))\n",
    "\n",
    "print(x)\n",
    "      "
   ]
  },
  {
   "cell_type": "markdown",
   "metadata": {},
   "source": [
    "#### 題目: 第一個字母，轉成大寫\n",
    "* 給定一行小寫ASCII單詞（句子用空格分隔），並將每個單字的首字母大寫。\n",
    "* 範例:\n",
    " * input: we danced the mamushka at waterloo\n",
    " * output: We Danced The Mamushka At Waterloo"
   ]
  },
  {
   "cell_type": "code",
   "execution_count": null,
   "metadata": {},
   "outputs": [],
   "source": [
    "s = input().split()\n",
    "\n",
    "for word in s:\n",
    "    print(chr(ord(word[0]) - ord('a') + ord('A')), end='')\n",
    "    \n",
    "    for i in range(1, len(word)):\n",
    "        print(word[i], end='')\n",
    "    print(end=' ')"
   ]
  },
  {
   "cell_type": "markdown",
   "metadata": {},
   "source": [
    "# ----------------------------------------------------end"
   ]
  }
 ],
 "metadata": {
  "celltoolbar": "Raw Cell Format",
  "kernelspec": {
   "display_name": "Python 3",
   "language": "python",
   "name": "python3"
  },
  "language_info": {
   "codemirror_mode": {
    "name": "ipython",
    "version": 3
   },
   "file_extension": ".py",
   "mimetype": "text/x-python",
   "name": "python",
   "nbconvert_exporter": "python",
   "pygments_lexer": "ipython3",
   "version": "3.8.3"
  }
 },
 "nbformat": 4,
 "nbformat_minor": 2
}
