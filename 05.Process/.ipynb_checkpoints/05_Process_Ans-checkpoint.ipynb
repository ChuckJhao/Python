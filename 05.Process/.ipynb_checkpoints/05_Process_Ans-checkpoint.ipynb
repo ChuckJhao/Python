{
 "cells": [
  {
   "cell_type": "markdown",
   "metadata": {},
   "source": [
    "### if statement"
   ]
  },
  {
   "cell_type": "code",
   "execution_count": null,
   "metadata": {},
   "outputs": [],
   "source": [
    "a = 200\n",
    "b = 33\n",
    "if b > a:\n",
    "  print(\"b is greater than a\")\n",
    "elif a == b:\n",
    "  print(\"a and b are equal\")\n",
    "else:\n",
    "  print(\"a is greater than b\")"
   ]
  },
  {
   "cell_type": "code",
   "execution_count": null,
   "metadata": {},
   "outputs": [],
   "source": [
    "a = 200\n",
    "b = 33\n",
    "\n",
    "if a > b: print(\"a is greater than b\")"
   ]
  },
  {
   "cell_type": "code",
   "execution_count": 1,
   "metadata": {},
   "outputs": [
    {
     "name": "stdout",
     "output_type": "stream",
     "text": [
      "a > b\n"
     ]
    }
   ],
   "source": [
    "a = 200\n",
    "b = 33\n",
    "if b > a:\n",
    "  print(\"b > a\")\n",
    "elif a == b:\n",
    "  print(\"a == b\")\n",
    "else:\n",
    "  print(\"a > b\")"
   ]
  },
  {
   "cell_type": "code",
   "execution_count": 2,
   "metadata": {},
   "outputs": [
    {
     "name": "stdout",
     "output_type": "stream",
     "text": [
      "b > a\n"
     ]
    }
   ],
   "source": [
    "a = 12\n",
    "b = 33\n",
    "if b > a:\n",
    "  print(\"b > a\")\n",
    "\n",
    "else:\n",
    "  print(\"a > b\")"
   ]
  },
  {
   "cell_type": "markdown",
   "metadata": {},
   "source": [
    "# Example ------------------------------------------------------"
   ]
  },
  {
   "cell_type": "markdown",
   "metadata": {},
   "source": [
    "#### 計算單車出租費用規則如下\n",
    "* 出租一天費用是每天100元\n",
    "* 如果晚上10點後還車，將加收一天額外的費用\n",
    "* 如果是在星期天租借，將減收5%的費用\n",
    "* 如果是在星期四租接，將減收10%的費用\n",
    "#### 要如何設計程式?"
   ]
  },
  {
   "cell_type": "code",
   "execution_count": null,
   "metadata": {},
   "outputs": [],
   "source": [
    "onTime = input(\"單車是否在晚上10點前返還? (請填y或n): \").lower()\n",
    "days = int(input(\"請輸入單車出租天數: \"))\n",
    "weekday = input(\"單車是在星期幾出租: \").capitalize()\n",
    "money = 100\n",
    "\n",
    "if onTime == \"n\":\n",
    "    days += 1\n",
    "    \n",
    "if weekday == \"Sunday\":\n",
    "    total = (days * money) * 0.95\n",
    "elif weekday == \"Thursday\":\n",
    "    total = (days * money) * 0.9\n",
    "else:\n",
    "    total = (days * money)\n",
    "    \n",
    "print(\"單車的出租費用總計為: \", int(total), \"元\")"
   ]
  },
  {
   "cell_type": "markdown",
   "metadata": {},
   "source": [
    "# ----------------------------------------------------end"
   ]
  },
  {
   "cell_type": "markdown",
   "metadata": {},
   "source": [
    "# for Statements"
   ]
  },
  {
   "cell_type": "code",
   "execution_count": 5,
   "metadata": {},
   "outputs": [
    {
     "name": "stdout",
     "output_type": "stream",
     "text": [
      "1\n",
      "2\n",
      "5\n",
      "3\n",
      "4\n"
     ]
    }
   ],
   "source": [
    "y = [1, 2, 5, 3, 4]\n",
    "\n",
    "for i in y:\n",
    "    print(i)"
   ]
  },
  {
   "cell_type": "code",
   "execution_count": 3,
   "metadata": {},
   "outputs": [
    {
     "name": "stdout",
     "output_type": "stream",
     "text": [
      "2\n",
      "4\n"
     ]
    }
   ],
   "source": [
    "y = [1, 2, 5, 3, 4]\n",
    "\n",
    "for i in y:\n",
    "    if i % 2 == 0:    #print偶數\n",
    "        print(i)"
   ]
  },
  {
   "cell_type": "code",
   "execution_count": 6,
   "metadata": {},
   "outputs": [
    {
     "name": "stdout",
     "output_type": "stream",
     "text": [
      "apple 5\n",
      "banana 6\n",
      "cherry 6\n"
     ]
    }
   ],
   "source": [
    "fruits = [\"apple\", \"banana\", \"cherry\"]\n",
    "for x in fruits:\n",
    "  print(x, len(x))"
   ]
  },
  {
   "cell_type": "code",
   "execution_count": null,
   "metadata": {},
   "outputs": [],
   "source": [
    "for x in \"banana\":\n",
    "  print(x) "
   ]
  },
  {
   "cell_type": "markdown",
   "metadata": {},
   "source": [
    "# 動手做 ------------------------------------------------------"
   ]
  },
  {
   "cell_type": "markdown",
   "metadata": {},
   "source": [
    "#### 題目: 印n步的梯形圖\n",
    "* 對於給定的整數n≤9，請打印n步的梯形圖。第k個步驟由1到k的整數組成，它們之間沒有空\n",
    "* 為此，可以對函數print（）使用sep和end參數。\n",
    "* 範例:\n",
    " * input: 3\n",
    " * output: \n",
    "   * 1\n",
    "   * 12\n",
    "   * 123"
   ]
  },
  {
   "cell_type": "code",
   "execution_count": null,
   "metadata": {},
   "outputs": [],
   "source": [
    "n = int(input())\n",
    "for i in range(1, n + 1):\n",
    "    for j in range(1, i + 1):\n",
    "        print(j, end='')\n",
    "    print()"
   ]
  },
  {
   "cell_type": "markdown",
   "metadata": {},
   "source": [
    "# ----------------------------------------------------end"
   ]
  },
  {
   "cell_type": "markdown",
   "metadata": {},
   "source": [
    "# 動手做 ------------------------------------------------------"
   ]
  },
  {
   "cell_type": "markdown",
   "metadata": {},
   "source": [
    "#### 題目: 找出 少掉的號碼\n",
    "* 有一組卡的編號從1到N。其中一張卡現在丟失了。給定剩餘卡的編號，確定丟失的卡上的編號。\n",
    "* 給定一個數字N代表卡片總數，後面列出N-1個整數-代表其餘卡上的數字（從1到N的整數）。查找並在丟失的卡，列印該號碼。\n",
    "* 範例:\n",
    " * input: \n",
    "5\n",
    " * input:\n",
    "   * 1\n",
    "   * 2\n",
    "   * 4\n",
    "   * 5\n",
    " \n",
    " * output: 3"
   ]
  },
  {
   "cell_type": "code",
   "execution_count": null,
   "metadata": {},
   "outputs": [],
   "source": [
    "n = int(input())\n",
    "sum_cards = 0\n",
    "\n",
    "for i in range(1, n + 1):\n",
    "    sum_cards += i\n",
    "    \n",
    "for i in range(n - 1):\n",
    "    x = int(input())\n",
    "    sum_cards = sum_cards - x\n",
    "    \n",
    "print(sum_cards)"
   ]
  },
  {
   "cell_type": "markdown",
   "metadata": {},
   "source": [
    "# ----------------------------------------------------end"
   ]
  },
  {
   "cell_type": "markdown",
   "metadata": {},
   "source": [
    "## Control Statement: break, continue, pass"
   ]
  },
  {
   "cell_type": "code",
   "execution_count": null,
   "metadata": {},
   "outputs": [],
   "source": [
    "fruits = [\"apple\", \"banana\", \"cherry\"]\n",
    "for x in fruits:\n",
    "  if x == \"banana\":\n",
    "    break\n",
    "  print(x)"
   ]
  },
  {
   "cell_type": "code",
   "execution_count": null,
   "metadata": {},
   "outputs": [],
   "source": [
    "fruits = [\"apple\", \"banana\", \"cherry\"]\n",
    "for x in fruits:\n",
    "  if x == \"banana\":\n",
    "    #continue\n",
    "    pass\n",
    "  print(x) "
   ]
  },
  {
   "cell_type": "code",
   "execution_count": null,
   "metadata": {},
   "outputs": [],
   "source": [
    "for x in [0, 1, 2]:\n",
    "  pass"
   ]
  },
  {
   "cell_type": "code",
   "execution_count": null,
   "metadata": {},
   "outputs": [],
   "source": [
    "for i in range(5):\n",
    "    print(i)\n",
    "    if (i==3):\n",
    "        print(\"%d\"%i)\n",
    "        break;\n",
    "else:\n",
    "    print(\"ok\")\n",
    "\n"
   ]
  },
  {
   "cell_type": "code",
   "execution_count": null,
   "metadata": {},
   "outputs": [],
   "source": [
    "a = 0\n",
    "for i in range(5):\n",
    "    if i % 2 == 0:\n",
    "        break\n",
    "    a = a + i\n",
    "print(a)"
   ]
  },
  {
   "cell_type": "code",
   "execution_count": null,
   "metadata": {},
   "outputs": [],
   "source": [
    "a = 0\n",
    "for i in range(5):\n",
    "    if i % 2 == 0:\n",
    "        continue\n",
    "    a = a + i\n",
    "print(a)"
   ]
  },
  {
   "cell_type": "code",
   "execution_count": null,
   "metadata": {},
   "outputs": [],
   "source": [
    "a = 0\n",
    "for i in range(5):\n",
    "    if i % 2 == 0:\n",
    "        pass\n",
    "    a = a + i\n",
    "print(a)"
   ]
  },
  {
   "cell_type": "markdown",
   "metadata": {},
   "source": [
    "## While Statements"
   ]
  },
  {
   "cell_type": "code",
   "execution_count": 7,
   "metadata": {},
   "outputs": [
    {
     "name": "stdout",
     "output_type": "stream",
     "text": [
      "0\n",
      "1\n",
      "2\n",
      "3\n",
      "i= 3\n"
     ]
    }
   ],
   "source": [
    "n=5;\n",
    "i=0;\n",
    "while i<n:\n",
    "    print(i)\n",
    "    if (i==3):\n",
    "        print(\"i=\",i)\n",
    "        break\n",
    "    i+=1\n",
    "else:\n",
    "    print('ok')"
   ]
  },
  {
   "cell_type": "code",
   "execution_count": 8,
   "metadata": {},
   "outputs": [
    {
     "name": "stdout",
     "output_type": "stream",
     "text": [
      "0\n",
      "1\n",
      "2\n",
      "3\n",
      "i= 3\n",
      "4\n",
      "ok\n"
     ]
    }
   ],
   "source": [
    "n=5;\n",
    "i=0;\n",
    "while i<n:\n",
    "    print(i)\n",
    "    if (i==3):\n",
    "        print(\"i=\",i)\n",
    "        pass\n",
    "    i+=1\n",
    "else:\n",
    "    print('ok')"
   ]
  },
  {
   "cell_type": "markdown",
   "metadata": {},
   "source": [
    "# 要注意 "
   ]
  },
  {
   "cell_type": "code",
   "execution_count": null,
   "metadata": {},
   "outputs": [],
   "source": [
    "n=5;\n",
    "i=0;\n",
    "while i<n:\n",
    "    print(i)\n",
    "    if (i==3):\n",
    "        print(\"i=\",i)\n",
    "        #continue\n",
    "    i+=1\n",
    "else:\n",
    "    print('ok')"
   ]
  },
  {
   "cell_type": "markdown",
   "metadata": {},
   "source": [
    "# 動手做 ------------------------------------------------------"
   ]
  },
  {
   "cell_type": "markdown",
   "metadata": {},
   "source": [
    "#### 題目: 每天增加10%距離，計算要跑的天數\n",
    "* 作為未來的運動員，您剛剛開始練習即將舉行的比賽。假設您在第一天就跑了x英里，那麼到了那時，您必須能夠跑y英里。\n",
    "* 如果您每天將距離比前一天增加10％，請計算最終達到事件所需距離所需的天數。\n",
    "* 列印一個整數，表示達到所需距離的天數。\n",
    "* 範例:\n",
    " * input: \n",
    "   * 10\n",
    "   * 20\n",
    " * output: 9"
   ]
  },
  {
   "cell_type": "code",
   "execution_count": 1,
   "metadata": {},
   "outputs": [
    {
     "name": "stdout",
     "output_type": "stream",
     "text": [
      "10\n",
      "20\n",
      "9\n"
     ]
    }
   ],
   "source": [
    "x = int(input())\n",
    "y = int(input())\n",
    "\n",
    "i = 1\n",
    "\n",
    "while x < y:\n",
    "    x = x + x*0.1\n",
    "    i = i + 1\n",
    "\n",
    "print(i)"
   ]
  },
  {
   "cell_type": "code",
   "execution_count": 2,
   "metadata": {},
   "outputs": [
    {
     "name": "stdout",
     "output_type": "stream",
     "text": [
      "10\n",
      "20\n",
      "11.00\n",
      "12.10\n",
      "13.31\n",
      "14.64\n",
      "16.11\n",
      "17.72\n",
      "19.49\n",
      "21.44\n",
      "9\n"
     ]
    }
   ],
   "source": [
    "x = int(input())\n",
    "y = int(input())\n",
    "\n",
    "i = 1\n",
    "\n",
    "while x < y:\n",
    "    x *= 1.1\n",
    "    i += 1\n",
    "    print(\"{:.2f}\".format(x))\n",
    "\n",
    "print(i)"
   ]
  },
  {
   "cell_type": "markdown",
   "metadata": {},
   "source": [
    "# ----------------------------------------------------end"
   ]
  },
  {
   "cell_type": "markdown",
   "metadata": {},
   "source": [
    "# 動手做 ------------------------------------------------------"
   ]
  },
  {
   "cell_type": "markdown",
   "metadata": {},
   "source": [
    "#### 題目: 0之前所有數字的平均值\n",
    "* 輸出以數字0結尾的序列中所有元素的平均值。\n",
    "\n",
    "* 範例:\n",
    " * input: \n",
    "   * 1\n",
    "   * 7\n",
    "   * 9\n",
    "   * 0\n",
    " * output: 5.6666667"
   ]
  },
  {
   "cell_type": "code",
   "execution_count": 3,
   "metadata": {},
   "outputs": [
    {
     "name": "stdout",
     "output_type": "stream",
     "text": [
      "1\n",
      "7\n",
      "9\n",
      "0\n",
      "5.666666666666667\n"
     ]
    }
   ],
   "source": [
    "aver = 0\n",
    "sum = 0\n",
    "len = 0\n",
    "a = int(input())\n",
    "while a != 0:\n",
    "    sum = sum + a\n",
    "    len += 1\n",
    "    a = int(input())\n",
    "    \n",
    "aver = sum / len\n",
    "print(aver)"
   ]
  },
  {
   "cell_type": "markdown",
   "metadata": {},
   "source": [
    "# ----------------------------------------------------end"
   ]
  },
  {
   "cell_type": "markdown",
   "metadata": {},
   "source": [
    "# HOME WORK -1 -----------------------------------"
   ]
  },
  {
   "cell_type": "markdown",
   "metadata": {},
   "source": [
    "#### 題目: 找出獨有(不重複)的數字\n",
    "* 給定一個數字列表，查找並列印僅出現在列表中的元素一次。元素必須按照它們在原始列表中出現的順序進行打印。\n",
    "\n",
    "* 範例:\n",
    " * input: 1 2 2 3 3 3 \n",
    " * output: 1"
   ]
  },
  {
   "cell_type": "code",
   "execution_count": 2,
   "metadata": {},
   "outputs": [
    {
     "name": "stdout",
     "output_type": "stream",
     "text": [
      "1 2 2 3 3 3 5\n",
      "1 5 "
     ]
    }
   ],
   "source": [
    "a = [int(s) for s in input().split()]\n",
    "for i in range(len(a)):\n",
    "    for j in range(len(a)):\n",
    "        if i != j and a[i] == a[j]:\n",
    "            break\n",
    "    else:\n",
    "        print(a[i], end=' ')"
   ]
  },
  {
   "cell_type": "markdown",
   "metadata": {},
   "source": [
    "# ----------------------------------------------------end"
   ]
  },
  {
   "cell_type": "code",
   "execution_count": null,
   "metadata": {},
   "outputs": [],
   "source": []
  },
  {
   "cell_type": "markdown",
   "metadata": {},
   "source": [
    "# HOME WORK -2 -----------------------------------"
   ]
  },
  {
   "cell_type": "markdown",
   "metadata": {},
   "source": [
    "#### 題目: 電腦選大樂透號碼\n",
    "* 大樂透的玩法是在 1 到 49 中選取6個號碼，請用 While 迴圈撰寫亂數產生器產出6個號碼。\n",
    "\n",
    "* 範例:\n",
    " * input: \n",
    " * output: 15 32 43 49 43 46"
   ]
  },
  {
   "cell_type": "code",
   "execution_count": 3,
   "metadata": {},
   "outputs": [
    {
     "name": "stdout",
     "output_type": "stream",
     "text": [
      "41 4 3 4 26 14 "
     ]
    }
   ],
   "source": [
    "import random\n",
    "i = 1\n",
    "while i <= 6:\n",
    "    lottoNum = random.randint(1, 49)\n",
    "    print(lottoNum, end = ' ')\n",
    "    i += 1"
   ]
  },
  {
   "cell_type": "code",
   "execution_count": 5,
   "metadata": {},
   "outputs": [
    {
     "name": "stdout",
     "output_type": "stream",
     "text": [
      "[3, 34, 32, 12, 45, 19]\n"
     ]
    }
   ],
   "source": [
    "import random\n",
    "list = [1, 2, 3, 4, 5, 6, 7, 8,9, 10, 11, 12, 13, 14, 15, 16, 17, 18, 19, 20, 21, 22, 23, 24, 25, 26, 27, 28, 29, 30, 31, 32, 33, 34, 35, 36, 37, 38, 39, 40, 41, 42, 43, 44, 45, 46, 47, 48, 49]\n",
    "lottoNum = random.sample(list, 6)\n",
    "print(lottoNum)"
   ]
  },
  {
   "cell_type": "markdown",
   "metadata": {},
   "source": [
    "# ----------------------------------------------------end"
   ]
  },
  {
   "cell_type": "markdown",
   "metadata": {},
   "source": [
    "# HOME WORK -3 -----------------------------------"
   ]
  },
  {
   "cell_type": "markdown",
   "metadata": {},
   "source": [
    "#### 題目: 數字三角形\n",
    "* 輸入1~9其中一個數字，輸出以下的三角形\n",
    "* 範例:\n",
    " * input: 9\n",
    " * output: "
   ]
  },
  {
   "cell_type": "code",
   "execution_count": 11,
   "metadata": {},
   "outputs": [
    {
     "name": "stdout",
     "output_type": "stream",
     "text": [
      "        1 \n",
      "       2 2 \n",
      "      3 3 3 \n",
      "     4 4 4 4 \n",
      "    5 5 5 5 5 \n",
      "   6 6 6 6 6 6 \n",
      "  7 7 7 7 7 7 7 \n",
      " 8 8 8 8 8 8 8 8 \n",
      "9 9 9 9 9 9 9 9 9 \n"
     ]
    }
   ],
   "source": [
    "for i in range(1, 10):\n",
    "    for j in range(i, 9):\n",
    "        print(' ', end='')\n",
    "        \n",
    "    for k in range(1, i+1):\n",
    "        print(i, end=' ')\n",
    "    print()"
   ]
  },
  {
   "cell_type": "code",
   "execution_count": null,
   "metadata": {},
   "outputs": [],
   "source": [
    "for i in range(1, 10):\n",
    "    for j in range(i, 9):\n",
    "        print('*', end='')\n",
    "\n",
    "    print()"
   ]
  },
  {
   "cell_type": "code",
   "execution_count": null,
   "metadata": {},
   "outputs": [],
   "source": [
    "for i in range(1, 10):\n",
    "    for j in range(9, i, -1):\n",
    "        print('_', end='')\n",
    "    print()"
   ]
  },
  {
   "cell_type": "code",
   "execution_count": null,
   "metadata": {},
   "outputs": [],
   "source": [
    "for i in range(1, 10):   \n",
    "    for k in range(1, i+1):\n",
    "        print(i, end=' ')\n",
    "    print()"
   ]
  },
  {
   "cell_type": "code",
   "execution_count": null,
   "metadata": {},
   "outputs": [],
   "source": [
    "for i in range(1, 3):\n",
    "\n",
    "        \n",
    "    for k in range(1, i+1):\n",
    "        print(i, end='')\n",
    "    print()"
   ]
  },
  {
   "cell_type": "markdown",
   "metadata": {},
   "source": [
    "# ----------------------------------------------------end"
   ]
  }
 ],
 "metadata": {
  "celltoolbar": "Raw Cell Format",
  "kernelspec": {
   "display_name": "Python 3",
   "language": "python",
   "name": "python3"
  },
  "language_info": {
   "codemirror_mode": {
    "name": "ipython",
    "version": 3
   },
   "file_extension": ".py",
   "mimetype": "text/x-python",
   "name": "python",
   "nbconvert_exporter": "python",
   "pygments_lexer": "ipython3",
   "version": "3.8.3"
  }
 },
 "nbformat": 4,
 "nbformat_minor": 2
}
