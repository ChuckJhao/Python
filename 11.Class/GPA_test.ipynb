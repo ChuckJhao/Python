{
 "cells": [
  {
   "cell_type": "code",
   "execution_count": null,
   "metadata": {},
   "outputs": [],
   "source": [
    "class GPA:\n",
    "  def __init__(self, name, score):\n",
    "    self.name = name\n",
    "    self.score = score\n",
    "\n",
    "  def gpa_grade(data):\n",
    "    if data.score >= 80:\n",
    "        print(data.name + '\\'GPA is A.')\n",
    "    elif data.score >= 70:\n",
    "        print(data.name + '\\'GPA is B.')\n",
    "    else: \n",
    "        print(data.name + '\\'GPA is C.')\n",
    "    \n",
    "  def Order_of_books(book):\n",
    "    if book.name[0] <= 'M':\n",
    "        print(book.name, 'take book is 1st priority.')\n",
    "    else:\n",
    "        print(book.name, 'take book is 2nd priority.')"
   ]
  }
 ],
 "metadata": {
  "kernelspec": {
   "display_name": "Python 3",
   "language": "python",
   "name": "python3"
  },
  "language_info": {
   "codemirror_mode": {
    "name": "ipython",
    "version": 3
   },
   "file_extension": ".py",
   "mimetype": "text/x-python",
   "name": "python",
   "nbconvert_exporter": "python",
   "pygments_lexer": "ipython3",
   "version": "3.7.6"
  }
 },
 "nbformat": 4,
 "nbformat_minor": 4
}
