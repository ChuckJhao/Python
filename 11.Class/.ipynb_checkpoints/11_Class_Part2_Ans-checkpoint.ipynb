{
 "cells": [
  {
   "cell_type": "markdown",
   "metadata": {},
   "source": [
    "# Class"
   ]
  },
  {
   "cell_type": "markdown",
   "metadata": {},
   "source": [
    "### part 1"
   ]
  },
  {
   "cell_type": "code",
   "execution_count": null,
   "metadata": {},
   "outputs": [],
   "source": [
    "class MyClass:\n",
    "  x = 5\n",
    "\n",
    "print(MyClass)"
   ]
  },
  {
   "cell_type": "code",
   "execution_count": null,
   "metadata": {},
   "outputs": [],
   "source": [
    "class MyClass:\n",
    "  x = 5\n",
    "\n",
    "p1 = MyClass()\n",
    "print(p1.x)"
   ]
  },
  {
   "cell_type": "code",
   "execution_count": null,
   "metadata": {},
   "outputs": [],
   "source": [
    "class Person:\n",
    "  def __init__(self, name, age):\n",
    "    self.name = name\n",
    "    self.age = age\n",
    "\n",
    "p1 = Person(\"John\", 36)\n",
    "\n",
    "print(p1.name)\n",
    "print(p1.age)"
   ]
  },
  {
   "cell_type": "code",
   "execution_count": null,
   "metadata": {},
   "outputs": [],
   "source": [
    "class Person:\n",
    "  def __init__(self, name, age):\n",
    "    self.name = name\n",
    "    self.age = age\n",
    "\n",
    "  def myfunc(self):\n",
    "    print(\"Hello my name is \" + self.name)\n",
    "\n",
    "p1 = Person(\"John\", 36)\n",
    "p1.myfunc()"
   ]
  },
  {
   "cell_type": "code",
   "execution_count": null,
   "metadata": {},
   "outputs": [],
   "source": [
    "class Person:\n",
    "  def __init__(mysillyobject, name, age):\n",
    "    mysillyobject.name = name\n",
    "    mysillyobject.age = age\n",
    "\n",
    "  def myfunc(abc):\n",
    "    print(\"Hello my name is \" + abc.name)\n",
    "\n",
    "p1 = Person(\"John\", 36)\n",
    "p1.myfunc()"
   ]
  },
  {
   "cell_type": "code",
   "execution_count": null,
   "metadata": {},
   "outputs": [],
   "source": [
    "class Person:\n",
    "  def __init__(self, name, age):\n",
    "    self.name = name\n",
    "    self.age = age\n",
    "\n",
    "  def myfunc(self):\n",
    "    print(\"Hello my name is \" + self.name)\n",
    "\n",
    "p1 = Person(\"John\", 36)\n",
    "\n",
    "p1.age = 40\n",
    "\n",
    "print(p1.age)\n"
   ]
  },
  {
   "cell_type": "markdown",
   "metadata": {},
   "source": [
    "### part 2"
   ]
  },
  {
   "cell_type": "code",
   "execution_count": null,
   "metadata": {},
   "outputs": [],
   "source": [
    "class GPA:\n",
    "  def __init__(self, name, score):\n",
    "    self.name = name\n",
    "    self.score = score\n",
    "\n",
    "  def gpa_grade(self):\n",
    "    print(self.name + '\\'GPA is', self.score)\n",
    "\n",
    "student1 = GPA(\"John\", 70)\n",
    "student1.gpa_grade()\n"
   ]
  },
  {
   "cell_type": "code",
   "execution_count": null,
   "metadata": {},
   "outputs": [],
   "source": [
    "class GPA:\n",
    "  def __init__(self, name, score):\n",
    "    self.name = name\n",
    "    self.score = score\n",
    "\n",
    "  def gpa_grade(data):    # 參數名稱可以更換\n",
    "    print(data.name + '\\'GPA is', data.score)\n",
    "\n",
    "student1 = GPA(\"John\", 70)\n",
    "student1.gpa_grade()\n"
   ]
  },
  {
   "cell_type": "code",
   "execution_count": null,
   "metadata": {},
   "outputs": [],
   "source": [
    "class GPA:\n",
    "  def __init__(self, name='John', score=70):  # 設定初值\n",
    "    self.name = name\n",
    "    self.score = score\n",
    "\n",
    "  def gpa_grade(data):\n",
    "    print(data.name + '\\'GPA is', data.score)\n",
    "\n",
    "student1 = GPA()\n",
    "student1.gpa_grade()\n"
   ]
  },
  {
   "cell_type": "code",
   "execution_count": null,
   "metadata": {},
   "outputs": [],
   "source": [
    "class GPA:\n",
    "  def __init__(self, name, score):\n",
    "    self.name = name\n",
    "    self.score = score\n",
    "\n",
    "  def gpa_grade(data):\n",
    "    print(data.name + '\\'GPA score is', data.score)\n",
    "\n",
    "def main():   #以函式呼叫\n",
    "    student1 = GPA(\"John\", 70)\n",
    "    student1.gpa_grade()\n",
    "\n",
    "main()"
   ]
  },
  {
   "cell_type": "markdown",
   "metadata": {},
   "source": [
    "# 動手做 --------------------------------------------------------------------"
   ]
  },
  {
   "cell_type": "markdown",
   "metadata": {},
   "source": [
    "#### 題目:  以Class技巧，設計BMI 測試\n",
    "* 輸入兩筆資料，輸出BMI值，並註明體重過輕或正常...\n",
    "* BMI值計算公式: BMI = 體重(公斤) / 身高**2(公尺)\n",
    "\n",
    "* 範例:\n",
    "  * 資料:\n",
    "      * David = BMI(68, 185)\n",
    "      * Kevin = BMI(53, 172)\n",
    "  * 輸出BMI結果 (小數點後兩位)\n",
    "      * David's BMI is :19.87\n",
    "      * Normal\n",
    "      * Kevin's BMI is :17.92\n",
    "      * Underweight\n"
   ]
  },
  {
   "cell_type": "markdown",
   "metadata": {},
   "source": [
    "* 成人BMI健康體重對照表\n",
    "\n",
    "|體重過輕|正常體重|體重過重|肥胖|\n",
    "|-----|-----|-----|-----|\n",
    "|BMI < 18.5|18.5 <= BMI < 24|24 <= BMI < 27|BMI >= 27|"
   ]
  },
  {
   "cell_type": "code",
   "execution_count": null,
   "metadata": {},
   "outputs": [],
   "source": [
    "# Example\n",
    "\n",
    "class GPA:\n",
    "  def __init__(self, name, score):\n",
    "    self.name = name\n",
    "    self.score = score\n",
    "\n",
    "  def gpa_grade(data):\n",
    "    print(data.name + '\\'GPA score is', data.score)\n",
    "\n",
    "def main():   #以函式呼叫\n",
    "    student1 = GPA(\"John\", 70)\n",
    "    student1.gpa_grade()\n",
    "\n",
    "main()"
   ]
  },
  {
   "cell_type": "code",
   "execution_count": null,
   "metadata": {},
   "outputs": [],
   "source": [
    "# Example\n",
    "\n",
    "class BMI:\n",
    "    def __init__(self, weight, height):\n",
    "        self.weight = weight\n",
    "        self.height = height\n",
    "\n",
    "    def bmi_grade(data):\n",
    "        bmi = data.weight / (data.height/100) ** 2\n",
    "        print('%.2f'%bmi)\n",
    "\n",
    "def main():   #以函式呼叫\n",
    "    David = BMI(68, 185)\n",
    "    print('David\\'s BMI is :', end ='')\n",
    "    David.bmi_grade()\n",
    "\n",
    "main()"
   ]
  },
  {
   "cell_type": "code",
   "execution_count": null,
   "metadata": {},
   "outputs": [],
   "source": [
    "class BMI:\n",
    "    def __init__(self, weight, height):\n",
    "        self.weight = weight\n",
    "        self.height = height\n",
    "        \n",
    "    def bmi_grade(self):\n",
    "        bmi = self.weight / ((self.height/100) ** 2)\n",
    "        print('%.2f'%bmi)\n",
    "        \n",
    "        if bmi < 18.5:\n",
    "            print('Underweight')\n",
    "        elif bmi <25:\n",
    "            print('Normal')\n",
    "        elif bmi <30:\n",
    "            print('Overweight')\n",
    "        else:\n",
    "            print('Obses')\n",
    "            \n",
    "def main():\n",
    "    David = BMI(68, 185)\n",
    "    print('David\\'s BMI is :', end ='')\n",
    "    David.bmi_grade()\n",
    "    print()\n",
    "    \n",
    "    Kevin = BMI(53, 172)\n",
    "    print('Kevin\\'s BMI is :', end ='')\n",
    "    Kevin.bmi_grade()\n",
    "    print()\n",
    "\n",
    "main()"
   ]
  },
  {
   "cell_type": "markdown",
   "metadata": {},
   "source": [
    "# -------------------------------------------------------------------------end"
   ]
  },
  {
   "cell_type": "markdown",
   "metadata": {},
   "source": [
    "### part 3"
   ]
  },
  {
   "cell_type": "code",
   "execution_count": null,
   "metadata": {},
   "outputs": [],
   "source": [
    "class GPA:\n",
    "  def __init__(self, name, score):\n",
    "    self.name = name\n",
    "    self.score = score\n",
    "\n",
    "  def gpa_grade(data):\n",
    "    if data.score >= 80:\n",
    "        print(data.name + '\\'GPA is A.')\n",
    "    elif data.score >= 70:\n",
    "        print(data.name + '\\'GPA is B.')\n",
    "    else: \n",
    "        print(data.name + '\\'GPA is C.')\n",
    "    \n",
    "def main():\n",
    "    student1 = GPA(\"John\", 70)\n",
    "    student1.gpa_grade()\n",
    "\n",
    "main()"
   ]
  },
  {
   "cell_type": "code",
   "execution_count": null,
   "metadata": {},
   "outputs": [],
   "source": [
    "class GPA:\n",
    "  def __init__(self, name, score):\n",
    "    self.name = name\n",
    "    self.score = score\n",
    "\n",
    "  def gpa_grade(data):\n",
    "    if data.score >= 80:\n",
    "        print(data.name + '\\'GPA is A.')\n",
    "    elif data.score >= 70:\n",
    "        print(data.name + '\\'GPA is B.')\n",
    "    else: \n",
    "        print(data.name + '\\'GPA is C.')\n",
    "    \n",
    "  def Order_of_books(book):\n",
    "    if book.name[0] <= 'M':\n",
    "        print(book.name, 'take book is first priority.')\n",
    "\n",
    "    \n",
    "def main():\n",
    "    student1 = GPA(\"John\", 70)\n",
    "    \n",
    "    student1.gpa_grade()\n",
    "    student1.Order_of_books()\n",
    "    \n",
    "main()"
   ]
  },
  {
   "cell_type": "code",
   "execution_count": null,
   "metadata": {},
   "outputs": [],
   "source": [
    "class GPA:\n",
    "  def __init__(self, name, score):\n",
    "    self.name = name\n",
    "    self.score = score\n",
    "\n",
    "  def gpa_grade(data):\n",
    "    if data.score >= 80:\n",
    "        print(data.name + '\\'GPA is A.')\n",
    "    elif data.score >= 70:\n",
    "        print(data.name + '\\'GPA is B.')\n",
    "    else: \n",
    "        print(data.name + '\\'GPA is C.')\n",
    "    \n",
    "  def Order_of_books(book):\n",
    "    if book.name[0] <= 'M':\n",
    "        print(book.name, 'take book is 1st priority.')\n",
    "    else:\n",
    "        print(book.name, 'take book is 2nd priority.')\n",
    "\n",
    "    \n",
    "def main():\n",
    "    student1 = GPA(\"John\", 70)\n",
    "    student1.gpa_grade()\n",
    "    student1.Order_of_books()\n",
    " \n",
    "    print()\n",
    "    student2 = GPA(\"Xaiver\", 85)\n",
    "    student2.gpa_grade()\n",
    "    student2.Order_of_books()\n",
    "    \n",
    "main()"
   ]
  },
  {
   "cell_type": "code",
   "execution_count": null,
   "metadata": {},
   "outputs": [],
   "source": [
    "class GPA:\n",
    "  def __init__(self, name, score):\n",
    "    self.name = name\n",
    "    self.score = score\n",
    "\n",
    "  def gpa_grade(data):\n",
    "    if data.score >= 80:\n",
    "        print(data.name + '\\'GPA is A.')\n",
    "    elif data.score >= 70:\n",
    "        print(data.name + '\\'GPA is B.')\n",
    "    else: \n",
    "        print(data.name + '\\'GPA is C.')\n",
    "    \n",
    "  def Order_of_books(book):\n",
    "    if book.name[0] <= 'M':\n",
    "        print(book.name, 'take book is 1st priority.')\n",
    "    else:\n",
    "        print(book.name, 'take book is 2nd priority.')\n",
    "\n",
    "    \n",
    "def main():\n",
    "    classroom = [[\"John\", 70], [\"Xaiver\", 85], [\"Kevin\", 50]]\n",
    "    \n",
    "    for c in classroom:\n",
    "        student = GPA(c[0], c[1])\n",
    "        student.gpa_grade()\n",
    "        student.Order_of_books()\n",
    "        print()\n",
    " \n",
    "\n",
    "    \n",
    "main()"
   ]
  },
  {
   "cell_type": "markdown",
   "metadata": {},
   "source": [
    "# 動手做 --------------------------------------------------------------------"
   ]
  },
  {
   "cell_type": "markdown",
   "metadata": {},
   "source": [
    "#### 題目:  以Class技巧，設計BMI 測試\n",
    "* 輸入兩筆資料\n",
    "* 輸出:\n",
    "  * BMI值，並註明體重過輕或正常...\n",
    "  * 參加跆拳道級別\n",
    "* BMI值計算公式: BMI = 體重(公斤) / 身高**2(公尺)\n",
    "\n",
    "* 範例:\n",
    "  * 資料:\n",
    "      * David = BMI(68, 185)\n",
    "      * Kevin = BMI(53, 172)\n",
    "  * 輸出BMI結果 (小數點後兩位)\n",
    "      * David's BMI is :19.87\n",
    "      * Normal\n",
    "      * 中量級\n",
    "      * Kevin's BMI is :17.92\n",
    "      * Underweight\n",
    "      * 蠅量級\n"
   ]
  },
  {
   "cell_type": "markdown",
   "metadata": {},
   "source": [
    "* 成人BMI健康體重對照表：\n",
    "\n",
    "|體重過輕|正常體重|體重過重|肥胖|\n",
    "|-----|-----|-----|-----|\n",
    "|BMI < 18.5|18.5 <= BMI < 24|24 <= BMI < 27|BMI >= 27|"
   ]
  },
  {
   "cell_type": "markdown",
   "metadata": {},
   "source": [
    "* 奧運會跆拳道比賽，男子分為下列級別(kg)：\n",
    "\n",
    "|蠅量級|輕量級|中量級|重量級|\n",
    "|-----|-----|-----|-----|\n",
    "|weight < 58|58 <= weight < 68|68 <= weight < 80|weight >= 80|"
   ]
  },
  {
   "cell_type": "code",
   "execution_count": null,
   "metadata": {},
   "outputs": [],
   "source": [
    "class BMI:\n",
    "    def __init__(self, weight, height):\n",
    "        self.__weight = weight\n",
    "        self.__height = height\n",
    "        \n",
    "    def bmi_level(data):\n",
    "        bmi_2 = data.__weight / ((data.__height/100) ** 2)\n",
    "        print('%.2f'%bmi_2)\n",
    "        \n",
    "        if bmi_2 < 18.5:\n",
    "            print('Underweight')\n",
    "        elif bmi_2 < 25:\n",
    "            print('Normal')\n",
    "        elif bmi_2 < 30:\n",
    "            print('Overweight')\n",
    "        else:\n",
    "            print('Obses')\n",
    "            \n",
    "    def Taekwondo_level(man):\n",
    "        if man.__weight < 58:\n",
    "            print('蠅量級')\n",
    "        elif man.__weight < 68:\n",
    "            print('輕量級')\n",
    "        elif man.__weight < 80:\n",
    "            print('中量級')\n",
    "        else:\n",
    "            print('重量級')\n",
    "            \n",
    "def main():\n",
    "    David = BMI(68, 185)\n",
    "    print('David\\'s BMI is :', end ='')\n",
    "    David.bmi_level()\n",
    "    David.Taekwondo_level()\n",
    "    print()\n",
    "    \n",
    "    Kevin = BMI(53, 172)\n",
    "    print('Kevin\\'s BMI is :', end ='')\n",
    "    Kevin.bmi_level()\n",
    "    Kevin.Taekwondo_level()\n",
    "    print()\n",
    "\n",
    "main()"
   ]
  },
  {
   "cell_type": "code",
   "execution_count": null,
   "metadata": {},
   "outputs": [],
   "source": []
  },
  {
   "cell_type": "markdown",
   "metadata": {},
   "source": [
    "# -------------------------------------------------------------------------end"
   ]
  },
  {
   "cell_type": "markdown",
   "metadata": {},
   "source": [
    "### part 4\n",
    "#### 建立模組"
   ]
  },
  {
   "cell_type": "code",
   "execution_count": null,
   "metadata": {},
   "outputs": [],
   "source": [
    "class GPA:\n",
    "  def __init__(self, name, score):\n",
    "    self.name = name\n",
    "    self.score = score\n",
    "\n",
    "  def gpa_grade(data):\n",
    "    if data.score >= 80:\n",
    "        print(data.name + '\\'GPA is A.')\n",
    "    elif data.score >= 70:\n",
    "        print(data.name + '\\'GPA is B.')\n",
    "    else: \n",
    "        print(data.name + '\\'GPA is C.')\n",
    "    \n",
    "  def Order_of_books(book):\n",
    "    if book.name[0] <= 'M':\n",
    "        print(book.name, 'take book is 1st priority.')\n",
    "    else:\n",
    "        print(book.name, 'take book is 2nd priority.')\n"
   ]
  },
  {
   "cell_type": "code",
   "execution_count": null,
   "metadata": {},
   "outputs": [],
   "source": [
    "#from GPA_test import GPA\n",
    "\n",
    "def main():\n",
    "    classroom = [[\"John\", 70], [\"Xaiver\", 85], [\"Kevin\", 50]]\n",
    "    \n",
    "    for c in classroom:\n",
    "        student = GPA(c[0], c[1])\n",
    "        student.gpa_grade()\n",
    "        student.Order_of_books()\n",
    "        print()\n",
    " \n",
    "\n",
    "    \n",
    "main()\n"
   ]
  },
  {
   "cell_type": "code",
   "execution_count": null,
   "metadata": {},
   "outputs": [],
   "source": []
  },
  {
   "cell_type": "markdown",
   "metadata": {},
   "source": [
    "# 動手做 --------------------------------------------------------------------"
   ]
  },
  {
   "cell_type": "markdown",
   "metadata": {},
   "source": [
    "#### 題目:  以Class技巧，分成兩個程式，用主程式呼叫BMI Class模組\n",
    "* 主程式:\n",
    "* Class模組:  class BMI:"
   ]
  },
  {
   "cell_type": "code",
   "execution_count": null,
   "metadata": {},
   "outputs": [],
   "source": [
    "class BMI:\n",
    "    def __init__(self, weight, height):\n",
    "        self.__weight = weight\n",
    "        self.__height = height\n",
    "        \n",
    "    def bmi_level(data):\n",
    "        bmi_2 = data.__weight / ((data.__height/100) ** 2)\n",
    "        print('%.2f'%bmi_2)\n",
    "        \n",
    "        if bmi_2 < 18.5:\n",
    "            print('Underweight')\n",
    "        elif bmi_2 < 25:\n",
    "            print('Normal')\n",
    "        elif bmi_2 < 30:\n",
    "            print('Overweight')\n",
    "        else:\n",
    "            print('Obses')\n",
    "            \n",
    "    def Taekwondo_level(man):\n",
    "        if man.__weight < 58:\n",
    "            print('蠅量級')\n",
    "        elif man.__weight < 68:\n",
    "            print('輕量級')\n",
    "        elif man.__weight < 80:\n",
    "            print('中量級')\n",
    "        else:\n",
    "            print('重量級')\n",
    "            "
   ]
  },
  {
   "cell_type": "code",
   "execution_count": null,
   "metadata": {},
   "outputs": [],
   "source": [
    "#from BMI_test import GPA\n",
    "\n",
    "def main():\n",
    "    David = BMI(68, 185)\n",
    "    print('David\\'s BMI is :', end ='')\n",
    "    David.bmi_level()\n",
    "    David.Taekwondo_level()\n",
    "    print()\n",
    "    \n",
    "    Kevin = BMI(53, 172)\n",
    "    print('Kevin\\'s BMI is :', end ='')\n",
    "    Kevin.bmi_level()\n",
    "    Kevin.Taekwondo_level()\n",
    "    print()\n",
    "\n",
    "main()"
   ]
  },
  {
   "cell_type": "markdown",
   "metadata": {},
   "source": [
    "# -------------------------------------------------------------------------end"
   ]
  },
  {
   "cell_type": "markdown",
   "metadata": {},
   "source": [
    "# Class Inheritance"
   ]
  },
  {
   "cell_type": "markdown",
   "metadata": {},
   "source": [
    "### part1"
   ]
  },
  {
   "cell_type": "code",
   "execution_count": null,
   "metadata": {},
   "outputs": [],
   "source": [
    "class Demo1:\n",
    "    i = 0\n",
    "    \n",
    "    def __init__(self):\n",
    "        self.j = 0\n",
    "        Demo1.i += 1\n",
    "\n",
    "class Demo2(Demo1):\n",
    "    pass\n",
    "\n",
    "\n",
    "\n",
    "d1 = Demo1()\n",
    "print(d1.i, d1.j)\n",
    "\n",
    "d2 = Demo2()\n",
    "print(d2.i, d2.j)"
   ]
  },
  {
   "cell_type": "code",
   "execution_count": null,
   "metadata": {},
   "outputs": [],
   "source": [
    "class Demo3(Demo2):\n",
    "    def __init__(self):\n",
    "        super().__init__()   #super用來解決多重繼承，直接用父類方法。\n",
    "\n",
    "        self.k = 0\n",
    "        \n",
    "\n",
    "d3 = Demo3()\n",
    "print(d3.i, d3.j, d3.k)"
   ]
  },
  {
   "cell_type": "markdown",
   "metadata": {},
   "source": [
    "### part2"
   ]
  },
  {
   "cell_type": "code",
   "execution_count": null,
   "metadata": {},
   "outputs": [],
   "source": [
    "class Person:\n",
    "    # initializing the variables\n",
    "    name = \"\"\n",
    "    age = 0\n",
    "\n",
    "    # defining constructor\n",
    "    def __init__(self, person_name, person_age):\n",
    "        self.name = person_name\n",
    "        self.age = person_age\n",
    "\n",
    "        # defining class methods\n",
    "\n",
    "    def show_name(self):\n",
    "        print(self.name)\n",
    "\n",
    "    def show_age(self):\n",
    "        print(self.age)\n",
    "\n",
    "\n",
    "# definition of subclass starts here\n",
    "class Student(Person):\n",
    "    studentId = \"\"\n",
    "\n",
    "    def __init__(self, student_name, student_age, student_id):\n",
    "        Person.__init__(self, student_name, student_age)\n",
    "        self.studentId = student_id\n",
    "\n",
    "    def get_id(self):\n",
    "        return self.studentId  # returns the value of student id\n",
    "\n",
    "\n",
    "# end of subclass definition\n",
    "\n",
    "\n",
    "\n",
    "person1 = Person(\"Richard\", 23)   # Create an object of the superclass\n",
    "person1.show_name()\n",
    "person1.show_age()    # call member methods of the objects\n",
    "\n",
    "student1 = Student(\"Max\", 22, \"102\")    # Create an object of the subclass\n",
    "student1.show_name()\n",
    "print(student1.get_id())\n"
   ]
  },
  {
   "cell_type": "code",
   "execution_count": null,
   "metadata": {},
   "outputs": [],
   "source": []
  },
  {
   "cell_type": "markdown",
   "metadata": {},
   "source": [
    "# Private or Public"
   ]
  },
  {
   "cell_type": "markdown",
   "metadata": {},
   "source": [
    "### Private"
   ]
  },
  {
   "cell_type": "code",
   "execution_count": null,
   "metadata": {},
   "outputs": [],
   "source": [
    "class GPA:\n",
    "  def __init__(self, name, score):\n",
    "    self.name = name\n",
    "    self.__score = score\n",
    "\n",
    "  def gpa_grade(data):\n",
    "    print(data.name + '\\'GPA score is', data.__score)\n",
    "\n",
    "def main():\n",
    "    student1 = GPA(\"John\", 70)\n",
    "    student1.gpa_grade()\n",
    "\n",
    "main()"
   ]
  },
  {
   "cell_type": "markdown",
   "metadata": {},
   "source": [
    "# 小心命名空間"
   ]
  },
  {
   "cell_type": "code",
   "execution_count": 7,
   "metadata": {},
   "outputs": [
    {
     "ename": "AttributeError",
     "evalue": "'MyClass' object has no attribute 'x'",
     "output_type": "error",
     "traceback": [
      "\u001b[1;31m---------------------------------------------------------------------------\u001b[0m",
      "\u001b[1;31mAttributeError\u001b[0m                            Traceback (most recent call last)",
      "\u001b[1;32m<ipython-input-7-06aaf4facceb>\u001b[0m in \u001b[0;36m<module>\u001b[1;34m\u001b[0m\n\u001b[0;32m     12\u001b[0m \u001b[1;33m\u001b[0m\u001b[0m\n\u001b[0;32m     13\u001b[0m \u001b[1;32mif\u001b[0m \u001b[0m__name__\u001b[0m \u001b[1;33m==\u001b[0m \u001b[1;34m'__main__'\u001b[0m\u001b[1;33m:\u001b[0m\u001b[1;33m\u001b[0m\u001b[1;33m\u001b[0m\u001b[0m\n\u001b[1;32m---> 14\u001b[1;33m     \u001b[0ma\u001b[0m \u001b[1;33m=\u001b[0m \u001b[0mMyClass\u001b[0m\u001b[1;33m(\u001b[0m\u001b[1;36m10\u001b[0m\u001b[1;33m)\u001b[0m\u001b[1;33m\u001b[0m\u001b[1;33m\u001b[0m\u001b[0m\n\u001b[0m\u001b[0;32m     15\u001b[0m     \u001b[0mprint\u001b[0m\u001b[1;33m(\u001b[0m\u001b[0ma\u001b[0m\u001b[1;33m.\u001b[0m\u001b[0mx\u001b[0m\u001b[1;33m)\u001b[0m\u001b[1;33m\u001b[0m\u001b[1;33m\u001b[0m\u001b[0m\n\u001b[0;32m     16\u001b[0m \u001b[1;33m\u001b[0m\u001b[0m\n",
      "\u001b[1;32m<ipython-input-7-06aaf4facceb>\u001b[0m in \u001b[0;36m__init__\u001b[1;34m(self, y)\u001b[0m\n\u001b[0;32m      5\u001b[0m \u001b[1;33m\u001b[0m\u001b[0m\n\u001b[0;32m      6\u001b[0m     \u001b[1;32mdef\u001b[0m \u001b[0m__init__\u001b[0m\u001b[1;33m(\u001b[0m\u001b[0mself\u001b[0m\u001b[1;33m,\u001b[0m \u001b[0my\u001b[0m\u001b[1;33m)\u001b[0m\u001b[1;33m:\u001b[0m\u001b[1;33m\u001b[0m\u001b[1;33m\u001b[0m\u001b[0m\n\u001b[1;32m----> 7\u001b[1;33m         \u001b[0mself\u001b[0m\u001b[1;33m.\u001b[0m\u001b[0mx\u001b[0m \u001b[1;33m+=\u001b[0m \u001b[0my\u001b[0m   \u001b[1;31m#錯誤：若是計算, self.x變數必須要設定初值\u001b[0m\u001b[1;33m\u001b[0m\u001b[1;33m\u001b[0m\u001b[0m\n\u001b[0m\u001b[0;32m      8\u001b[0m \u001b[1;33m\u001b[0m\u001b[0m\n\u001b[0;32m      9\u001b[0m     \u001b[1;32mdef\u001b[0m \u001b[0mmy_add\u001b[0m\u001b[1;33m(\u001b[0m\u001b[0mself\u001b[0m\u001b[1;33m,\u001b[0m \u001b[0mz\u001b[0m\u001b[1;33m)\u001b[0m\u001b[1;33m:\u001b[0m\u001b[1;33m\u001b[0m\u001b[1;33m\u001b[0m\u001b[0m\n",
      "\u001b[1;31mAttributeError\u001b[0m: 'MyClass' object has no attribute 'x'"
     ]
    }
   ],
   "source": [
    "x = 10\n",
    " \n",
    "class MyClass:\n",
    "    #x = 3  # 錯誤：生成x所屬的命名空間\n",
    " \n",
    "    def __init__(self, y):\n",
    "        self.x += y   #錯誤：若是計算, self.x變數必須要設定初值\n",
    "\n",
    "    def my_add(self, z):\n",
    "        x = x + z  # 錯誤： x的scope並未被生成, 使用self.x或MyClass.x便能參考 \n",
    "        print(self.x)\n",
    "\n",
    "if __name__ == '__main__':\n",
    "    a = MyClass(10)\n",
    "    print(a.x)\n",
    "    \n",
    "    a.my_add(10)\n",
    "    "
   ]
  },
  {
   "cell_type": "code",
   "execution_count": 6,
   "metadata": {},
   "outputs": [
    {
     "name": "stdout",
     "output_type": "stream",
     "text": [
      "13\n",
      "23\n"
     ]
    }
   ],
   "source": [
    "x = 10\n",
    " \n",
    "class MyClass:\n",
    "    x = 3  # 生成x所屬的命名空間\n",
    " \n",
    "    def __init__(self, y):\n",
    "        self.x += y   #若是計算, 變數必須要設定初值\n",
    "\n",
    "    def my_add(self, z):\n",
    "        self.x = self.x + z   # 使用self.x或MyClass.x便能參考 \n",
    "        print(self.x)\n",
    "        \n",
    "\n",
    "\n",
    "if __name__ == '__main__':\n",
    "    a = MyClass(10)\n",
    "    print(a.x)\n",
    "    \n",
    "    a.my_add(10)\n",
    "    "
   ]
  },
  {
   "cell_type": "code",
   "execution_count": null,
   "metadata": {},
   "outputs": [],
   "source": []
  },
  {
   "cell_type": "markdown",
   "metadata": {},
   "source": [
    "# @classmethod and @staticmethond"
   ]
  },
  {
   "cell_type": "markdown",
   "metadata": {},
   "source": [
    "#### @classmethod和@staticmethod很相似，方法在使用上只有一點區別：@classmethod裝飾的方法第一個參數必須是一個類（通常為cls），而@staticmethod裝飾的方法則按業務需求設置參數，也可以根本沒有參數。"
   ]
  },
  {
   "cell_type": "markdown",
   "metadata": {},
   "source": [
    "## @staticmethod"
   ]
  },
  {
   "cell_type": "markdown",
   "metadata": {},
   "source": [
    "#### python staticmethod 返回函數的靜態方法。\n",
    "#### 該方法不強制要求傳遞參數，如下聲明一個靜態方法："
   ]
  },
  {
   "cell_type": "code",
   "execution_count": 8,
   "metadata": {},
   "outputs": [
    {
     "name": "stdout",
     "output_type": "stream",
     "text": [
      "runoob\n"
     ]
    }
   ],
   "source": [
    "class C(object):\n",
    "    @staticmethod   # 聲明staticmethod f\n",
    "    \n",
    "    def f():       \n",
    "        print('runoob');\n",
    " \n",
    "cobj = C()  \n",
    "cobj.f() "
   ]
  },
  {
   "cell_type": "code",
   "execution_count": 9,
   "metadata": {},
   "outputs": [
    {
     "name": "stdout",
     "output_type": "stream",
     "text": [
      "runoob\n"
     ]
    }
   ],
   "source": [
    "class C(object):\n",
    "    @staticmethod   # 聲明staticmethod f\n",
    "    \n",
    "    def f():       \n",
    "        print('runoob');\n",
    " \n",
    "C.f();          # 不強制要求傳遞參數\n",
    "                # @staticmethod裝飾的方法則按需求設置參數，也可以根本沒有參數。"
   ]
  },
  {
   "cell_type": "code",
   "execution_count": 10,
   "metadata": {},
   "outputs": [
    {
     "name": "stdout",
     "output_type": "stream",
     "text": [
      "<class '__main__.C1.C2'>\n",
      "Python世界第1\n"
     ]
    }
   ],
   "source": [
    "class C1(object):\n",
    "    @staticmethod    # 聲明staticmethod C().f()\n",
    "    \n",
    "    class C2(object):\n",
    "        def __init__(self, val = 1):\n",
    "            self.val = val\n",
    "            \n",
    "        def shout(self):\n",
    "            print(\"Python世界第%d\"%self.val)\n",
    "            \n",
    "            \n",
    "tmp = C1.C2()      # 不強制要求傳遞參數\n",
    "\n",
    "print(type(tmp))     \n",
    "tmp.shout()          "
   ]
  },
  {
   "cell_type": "code",
   "execution_count": 11,
   "metadata": {},
   "outputs": [
    {
     "name": "stdout",
     "output_type": "stream",
     "text": [
      "<class '__main__.C1.C2'>\n",
      "Python世界第0\n"
     ]
    }
   ],
   "source": [
    "class C1(object):\n",
    "    @staticmethod    # 聲明staticmethod C().f()\n",
    "    \n",
    "    class C2(object):\n",
    "        def __init__(self, val = 1):\n",
    "            self.val = val\n",
    "            \n",
    "        def shout(self):\n",
    "            print(\"Python世界第%d\"%self.val)\n",
    "            \n",
    "            \n",
    "tmp = C1.C2(0)      \n",
    "\n",
    "print(type(tmp))     \n",
    "tmp.shout()          "
   ]
  },
  {
   "cell_type": "markdown",
   "metadata": {},
   "source": [
    "## @classmethod"
   ]
  },
  {
   "cell_type": "markdown",
   "metadata": {},
   "source": [
    "##### classmethod 對應的函數不需要 self 參數，但第一個參數需要是表示自身class的 cls 參數，可以來調用class的屬性，class的方法等。"
   ]
  },
  {
   "cell_type": "code",
   "execution_count": 12,
   "metadata": {},
   "outputs": [
    {
     "name": "stdout",
     "output_type": "stream",
     "text": [
      "func2\n",
      "1\n",
      "foo\n"
     ]
    }
   ],
   "source": [
    "class A(object):       \n",
    "    bar = 1\n",
    "    \n",
    "    def func1(self):   \n",
    "        print ('foo') \n",
    "        \n",
    "    @classmethod\n",
    "    def func2(cls):    # 不需要 self 參數，@classmethod裝飾的方法第一個參數必須是一個類（通常為cls）\n",
    "        print ('func2')\n",
    "        print (cls.bar)\n",
    "        \n",
    "        cls().func1()   # 調用 foo 方法\n",
    " \n",
    "A.func2()         "
   ]
  },
  {
   "cell_type": "markdown",
   "metadata": {},
   "source": [
    "# Example: class in module "
   ]
  },
  {
   "cell_type": "code",
   "execution_count": null,
   "metadata": {},
   "outputs": [],
   "source": [
    "import sys\n",
    "sys.path.append(r'C:\\Users\\Joseph\\python\\code\\trunk\\my_module')\n",
    "\n",
    "import numpy as np\n",
    "print(np.__file__)"
   ]
  },
  {
   "cell_type": "code",
   "execution_count": null,
   "metadata": {},
   "outputs": [],
   "source": [
    "import customer \n",
    "  \n",
    "me = customer.Customer('joseph')\n",
    "print(me.name)\n",
    "\n",
    "import customer as Cu\n",
    "he = Cu.Customer('ittraining')\n",
    "print(he.name)\n",
    "\n",
    "\n",
    "from customer import Customer \n",
    "you = Customer('google')\n",
    "print(you.name)"
   ]
  },
  {
   "cell_type": "code",
   "execution_count": null,
   "metadata": {},
   "outputs": [],
   "source": [
    "me.set_balance(500)\n",
    "print(me.name)\n",
    "print(me.balance)\n",
    "print(Customer.count)\n",
    "print(customer.__file__)\n",
    "print(customer.__name__)"
   ]
  },
  {
   "cell_type": "code",
   "execution_count": null,
   "metadata": {},
   "outputs": [],
   "source": [
    "print(customer.__file__)\n",
    "print(customer.__name__)\n",
    "print('==============')\n",
    "print(dir(customer))\n",
    "print(help(customer))"
   ]
  },
  {
   "cell_type": "code",
   "execution_count": null,
   "metadata": {},
   "outputs": [],
   "source": []
  },
  {
   "cell_type": "code",
   "execution_count": null,
   "metadata": {},
   "outputs": [],
   "source": []
  }
 ],
 "metadata": {
  "kernelspec": {
   "display_name": "Python 3",
   "language": "python",
   "name": "python3"
  },
  "language_info": {
   "codemirror_mode": {
    "name": "ipython",
    "version": 3
   },
   "file_extension": ".py",
   "mimetype": "text/x-python",
   "name": "python",
   "nbconvert_exporter": "python",
   "pygments_lexer": "ipython3",
   "version": "3.8.3"
  }
 },
 "nbformat": 4,
 "nbformat_minor": 4
}
