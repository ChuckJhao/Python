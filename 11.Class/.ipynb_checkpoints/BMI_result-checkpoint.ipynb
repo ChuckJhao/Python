{
 "cells": [
  {
   "cell_type": "code",
   "execution_count": null,
   "metadata": {},
   "outputs": [],
   "source": [
    "from BMI_test import BMI\n",
    "\n",
    "def main():\n",
    "    David = BMI(68, 185)\n",
    "    print('David\\'s BMI is :', end ='')\n",
    "    David.bmi_level()\n",
    "    David.Taekwondo_level()\n",
    "    print()\n",
    "    \n",
    "    Kevin = BMI(53, 172)\n",
    "    print('Kevin\\'s BMI is :', end ='')\n",
    "    Kevin.bmi_level()\n",
    "    Kevin.Taekwondo_level()\n",
    "    print()\n",
    "\n",
    "main()"
   ]
  }
 ],
 "metadata": {
  "kernelspec": {
   "display_name": "Python 3",
   "language": "python",
   "name": "python3"
  },
  "language_info": {
   "codemirror_mode": {
    "name": "ipython",
    "version": 3
   },
   "file_extension": ".py",
   "mimetype": "text/x-python",
   "name": "python",
   "nbconvert_exporter": "python",
   "pygments_lexer": "ipython3",
   "version": "3.8.3"
  }
 },
 "nbformat": 4,
 "nbformat_minor": 4
}
