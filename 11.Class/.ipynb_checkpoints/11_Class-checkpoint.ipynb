{
 "cells": [
  {
   "cell_type": "markdown",
   "metadata": {},
   "source": [
    "# Class"
   ]
  },
  {
   "cell_type": "markdown",
   "metadata": {},
   "source": [
    "## Class & Instance\n"
   ]
  },
  {
   "cell_type": "code",
   "execution_count": 1,
   "metadata": {
    "scrolled": true
   },
   "outputs": [
    {
     "name": "stdout",
     "output_type": "stream",
     "text": [
      "Myclass created\n",
      "Joseph\n",
      "1\n",
      "100\n",
      "0\n",
      "ittraining\n",
      "2\n",
      "100\n",
      "0\n",
      "---------------\n",
      "2\n"
     ]
    }
   ],
   "source": [
    "# class \n",
    "\n",
    "class Myclass:\n",
    "    '''\n",
    "      This is my first class\n",
    "    '''   \n",
    "    x=0    # class attribute; class variable\n",
    "    y=0\n",
    "    print('Myclass created')\n",
    "    def __init__ (self, name):\n",
    "        #print(self)\n",
    "        self.name = name  #use self to define a object atriabute\n",
    "        self.y=100\n",
    "        #x += 1   #error! 'x' referenced before assignment\n",
    "        Myclass.x += 1\n",
    "\n",
    "    def show(self):\n",
    "        print(self.name)\n",
    "        print(Myclass.x)\n",
    "        print(self.y)\n",
    "        print(Myclass.y)\n",
    "    def BMI(self):\n",
    "        pass\n",
    "        \n",
    "\n",
    "        \n",
    "\n",
    "\n",
    "\n",
    "\n",
    "b = Myclass(\"Joseph\")\n",
    "b.show()\n",
    "\n",
    "My=Myclass   # set alternative class name \n",
    "c=My(\"ittraining\")\n",
    "c.show()\n",
    "c.BMI()\n",
    "print('---------------')\n",
    "print(Myclass.x)"
   ]
  },
  {
   "cell_type": "code",
   "execution_count": null,
   "metadata": {},
   "outputs": [],
   "source": [
    "a = Myclass(\"TQQQ\")\n",
    "a.show()\n",
    "\n",
    "print(a.name)"
   ]
  },
  {
   "cell_type": "markdown",
   "metadata": {},
   "source": [
    "# 小心命名空間"
   ]
  },
  {
   "cell_type": "code",
   "execution_count": 5,
   "metadata": {},
   "outputs": [
    {
     "name": "stdout",
     "output_type": "stream",
     "text": [
      "13\n"
     ]
    },
    {
     "ename": "UnboundLocalError",
     "evalue": "local variable 'x' referenced before assignment",
     "output_type": "error",
     "traceback": [
      "\u001b[1;31m---------------------------------------------------------------------------\u001b[0m",
      "\u001b[1;31mUnboundLocalError\u001b[0m                         Traceback (most recent call last)",
      "\u001b[1;32m<ipython-input-5-6ca9a1aafbb0>\u001b[0m in \u001b[0;36m<module>\u001b[1;34m\u001b[0m\n\u001b[0;32m     19\u001b[0m     \u001b[0mprint\u001b[0m\u001b[1;33m(\u001b[0m\u001b[0ma\u001b[0m\u001b[1;33m.\u001b[0m\u001b[0mx\u001b[0m\u001b[1;33m)\u001b[0m\u001b[1;33m\u001b[0m\u001b[1;33m\u001b[0m\u001b[0m\n\u001b[0;32m     20\u001b[0m \u001b[1;33m\u001b[0m\u001b[0m\n\u001b[1;32m---> 21\u001b[1;33m     \u001b[0ma\u001b[0m\u001b[1;33m.\u001b[0m\u001b[0mmy_add\u001b[0m\u001b[1;33m(\u001b[0m\u001b[1;36m10\u001b[0m\u001b[1;33m)\u001b[0m\u001b[1;33m\u001b[0m\u001b[1;33m\u001b[0m\u001b[0m\n\u001b[0m\u001b[0;32m     22\u001b[0m \u001b[1;33m\u001b[0m\u001b[0m\n\u001b[0;32m     23\u001b[0m \u001b[1;33m\u001b[0m\u001b[0m\n",
      "\u001b[1;32m<ipython-input-5-6ca9a1aafbb0>\u001b[0m in \u001b[0;36mmy_add\u001b[1;34m(self, z)\u001b[0m\n\u001b[0;32m     11\u001b[0m \u001b[1;33m\u001b[0m\u001b[0m\n\u001b[0;32m     12\u001b[0m     \u001b[1;32mdef\u001b[0m \u001b[0mmy_add\u001b[0m\u001b[1;33m(\u001b[0m\u001b[0mself\u001b[0m\u001b[1;33m,\u001b[0m \u001b[0mz\u001b[0m\u001b[1;33m)\u001b[0m\u001b[1;33m:\u001b[0m\u001b[1;33m\u001b[0m\u001b[1;33m\u001b[0m\u001b[0m\n\u001b[1;32m---> 13\u001b[1;33m         \u001b[0mx\u001b[0m \u001b[1;33m=\u001b[0m \u001b[0mx\u001b[0m \u001b[1;33m+\u001b[0m \u001b[0mz\u001b[0m  \u001b[1;31m# 錯誤： x的scope並未被生成,\u001b[0m\u001b[1;33m\u001b[0m\u001b[1;33m\u001b[0m\u001b[0m\n\u001b[0m\u001b[0;32m     14\u001b[0m         \u001b[1;31m# 使用self.x或MyClass.x便能參考\u001b[0m\u001b[1;33m\u001b[0m\u001b[1;33m\u001b[0m\u001b[1;33m\u001b[0m\u001b[0m\n\u001b[0;32m     15\u001b[0m \u001b[1;33m\u001b[0m\u001b[0m\n",
      "\u001b[1;31mUnboundLocalError\u001b[0m: local variable 'x' referenced before assignment"
     ]
    }
   ],
   "source": [
    "x = 10\n",
    " \n",
    "class MyClass:\n",
    "    x = 3  # 生成x所屬的命名空間\n",
    " \n",
    "\n",
    "    def __init__(self, y):\n",
    "        self.x += y   #若是計算, 變數必須要設定初值\n",
    "\n",
    "    def my_add(self, z):\n",
    "        x = x + z  # 錯誤： x的scope並未被生成, \n",
    "        # 使用self.x或MyClass.x便能參考 \n",
    "\n",
    "\n",
    "if __name__ == '__main__':\n",
    "    a = MyClass(10)\n",
    "    print(a.x)\n",
    "    \n",
    "    a.my_add(10)\n",
    "    \n",
    "    "
   ]
  },
  {
   "cell_type": "code",
   "execution_count": 6,
   "metadata": {},
   "outputs": [
    {
     "name": "stdout",
     "output_type": "stream",
     "text": [
      "xx =  104\n",
      "price y = 1000\n",
      "price z = 1020\n",
      "(a.i, b.i) = (20, 20)\n",
      "(a.i, b.i) = (2, 4)\n"
     ]
    }
   ],
   "source": [
    "x = 100\n",
    "class Demo:\n",
    "\n",
    "    i = 10 \n",
    "    x += 2  #102\n",
    "    xx = x + 2  #104\n",
    "    print('xx = ', xx)\n",
    "    def price(self):\n",
    "        y = self.i * x  # 參考全域命名空間裡的物件x\n",
    "        z = self.i * self.x  #依實例屬性→類別屬性的順序來搜尋並參考\n",
    "        # z = i * x  #這裡會發生錯誤（在此無法看到資料i）MyClass.i\n",
    "        print(\"price y = %d\" % y)\n",
    "        print(\"price z = %d\" % z)\n",
    "\n",
    "    def shop(self):\n",
    "        self.price()  # (8)這個方式OK\n",
    "        Demo.i = 20  #變更類別的資料\n",
    "\n",
    "\n",
    "\n",
    "# (11)用來確認動作的程式碼\n",
    "\n",
    "a = Demo()\n",
    "b = Demo()\n",
    "a.shop()  # 當中會執行 MyClass.i = 20\n",
    "print('(a.i, b.i) = ({}, {})'.format(a.i, b.i))\n",
    "a.i = 2  # 設定實例屬性\n",
    "Demo.i = 4  # 變更類別屬性\n",
    "print('(a.i, b.i) = ({}, {})'.format(a.i, b.i))\n"
   ]
  },
  {
   "cell_type": "markdown",
   "metadata": {},
   "source": [
    "## class inheritance "
   ]
  },
  {
   "cell_type": "code",
   "execution_count": 7,
   "metadata": {},
   "outputs": [
    {
     "name": "stdout",
     "output_type": "stream",
     "text": [
      "MySubclass created\n",
      "ittraining\n",
      "3\n",
      "100\n",
      "0\n",
      "joseph\n",
      "4\n",
      "100\n",
      "0\n"
     ]
    },
    {
     "data": {
      "text/plain": [
       "20.0"
      ]
     },
     "execution_count": 7,
     "metadata": {},
     "output_type": "execute_result"
    }
   ],
   "source": [
    "# class inheritance \n",
    "\n",
    "class MySubclass(Myclass):\n",
    "    '''\n",
    "      This is my first Subclass\n",
    "      \n",
    "    '''\n",
    "    print('MySubclass created')\n",
    "    def __init__ (self, name,height,weight):\n",
    "        \n",
    "        super().__init__(name)   #supber() to get the parent class\n",
    "        self.height=height  #new attribute\n",
    "        self.weight=weight  #new attribute\n",
    "        #print(self)\n",
    "\n",
    "    #def show(self):              # override the show() method in praenet class\n",
    "        #super().show()   #call parent show()\n",
    "    #    print(self.name,':',self.height,self.weight)\n",
    "    # BMI = 體重(公斤) / 身高2(公尺2)\n",
    "    def BMI(self):       #function overrid \n",
    "        return round(self.weight/((self.height/100)**2),2)\n",
    "\n",
    "\n",
    "\n",
    "MySub=MySubclass   # set alternative class name \n",
    "c=MySub(\"ittraining\",180,80)\n",
    "c.show()\n",
    "c.BMI()\n",
    "\n",
    "d=MySub(\"joseph\",200,80)\n",
    "d.show()\n",
    "d.BMI()\n"
   ]
  },
  {
   "cell_type": "markdown",
   "metadata": {},
   "source": [
    "## @staticmethod"
   ]
  },
  {
   "cell_type": "code",
   "execution_count": 8,
   "metadata": {},
   "outputs": [
    {
     "name": "stdout",
     "output_type": "stream",
     "text": [
      "ittraining\n",
      "5\n",
      "100\n",
      "0\n",
      "175 75\n",
      "23.84\n"
     ]
    }
   ],
   "source": [
    "# class--static method\n",
    "\n",
    "class MySubclass2(Myclass):\n",
    "    '''\n",
    "      This is my first Subclass\n",
    "    '''\n",
    "    def __init__ (self, name,height,weight):\n",
    "        super().__init__(name)   #supber() to get the parent class\n",
    "        self.height=height  #new attribute\n",
    "        self.weight=weight  #new attribute\n",
    "\n",
    "    def show(self):      # override the show() method in praenet class\n",
    "        super().show()   #call parent show()\n",
    "        print(self.height,self.weight)\n",
    "    #@staticmethod         \n",
    "    def BMI(h,w):    \n",
    "        return w/((h/100)**2)\n",
    "\n",
    "MySub=MySubclass2   # set alternative class name \n",
    "c=MySub(\"ittraining\",175,75)\n",
    "c.show()\n",
    "bmi=MySub.BMI(175,73) #call using classs name\n",
    "print(round(bmi,2))\n",
    "\n"
   ]
  },
  {
   "cell_type": "markdown",
   "metadata": {},
   "source": [
    "## @classmethod"
   ]
  },
  {
   "cell_type": "code",
   "execution_count": 9,
   "metadata": {},
   "outputs": [
    {
     "name": "stdout",
     "output_type": "stream",
     "text": [
      "40\n",
      "20\n"
     ]
    }
   ],
   "source": [
    "class CoeffVar:\n",
    "    coefficient = 10\n",
    "\n",
    "    @classmethod  # 將方法mul指定為類別方法\n",
    "    def mul(cls, fact):  # 第1引數為cls\n",
    "        return cls.coefficient * fact\n",
    "\n",
    "\n",
    "# 定義繼承類別Coeffvar的類別MulFive\n",
    "class MulFive(CoeffVar):\n",
    "    coefficient = 5\n",
    "    pass\n",
    "\n",
    "\n",
    "x=CoeffVar.mul(4)\n",
    "print(x)\n",
    "x = MulFive.mul(4)  # CoeffVar.mul(MulFive, 4) -> 20\n",
    "#print(MulFive.coefficient)\n",
    "print(x)\n"
   ]
  },
  {
   "cell_type": "markdown",
   "metadata": {},
   "source": [
    "## private attribute & method"
   ]
  },
  {
   "cell_type": "code",
   "execution_count": 10,
   "metadata": {
    "scrolled": true
   },
   "outputs": [
    {
     "name": "stdout",
     "output_type": "stream",
     "text": [
      "(10, 1000, 1)\n",
      "--------------\n",
      "a.j= 10\n",
      "a.getJ()= 10\n",
      "a.getI()= 1000\n",
      "Demo.y = 50\n",
      "Demo.x = 1\n",
      "a(i,j) = (10, 1000, 1)\n"
     ]
    }
   ],
   "source": [
    "# Private variable : __var\n",
    "# Private Method : __def xxx(self,...)\n",
    "class Demo:\n",
    "    __x = 0\n",
    "    y = 50\n",
    "    def __init__ (self, i):\n",
    "        self.j=10\n",
    "        self.__i = i\n",
    "        Demo.__x += 1\n",
    "    def getJ(self):\n",
    "        return self.j\n",
    "    def getI(self):\n",
    "        return self.__i\n",
    "    @classmethod\n",
    "    def getX(cls):   \n",
    "        return cls.__x\n",
    "    def __get(self):  #private method   \n",
    "        return (self.getJ(),self.getI(),Demo.__x)  \n",
    "\n",
    "    def get(self):   #public method\n",
    "        return self.__get()     \n",
    "\n",
    "a = Demo(1000)\n",
    "\n",
    "print(a.get())\n",
    "print('--------------')\n",
    "#---public instance variable--------------\n",
    "print(\"a.j=\",a.j)\n",
    "print(\"a.getJ()=\", a.getJ())\n",
    "\n",
    "#---private instance variable--------------\n",
    "#print(\"a.__i=\",a.__i)  #error: Object has no attribute '__x'\n",
    "print(\"a.getI()=\", a.getI())\n",
    "\n",
    "#---public Class variable--------------\n",
    "\n",
    "#print(\"Demo.x =\", Demo.__x) #error: Class has no attribute '__x'\n",
    "print(\"Demo.y =\", Demo.y)\n",
    "\n",
    "#---private Class variable--------------\n",
    "\n",
    "#print(\"Demo.x =\", Demo.__x) #error: Class has no attribute '__x'\n",
    "print(\"Demo.x =\", Demo.getX())\n",
    "\n",
    "#---private method--------------\n",
    "#print(\"a(i,j) =\", a.__get())  #error: Demo object has no attribute '__get'\n",
    "print(\"a(i,j) =\", a.get())\n",
    "\n",
    "\n"
   ]
  },
  {
   "cell_type": "code",
   "execution_count": null,
   "metadata": {},
   "outputs": [],
   "source": []
  }
 ],
 "metadata": {
  "celltoolbar": "Raw Cell Format",
  "kernelspec": {
   "display_name": "Python 3",
   "language": "python",
   "name": "python3"
  },
  "language_info": {
   "codemirror_mode": {
    "name": "ipython",
    "version": 3
   },
   "file_extension": ".py",
   "mimetype": "text/x-python",
   "name": "python",
   "nbconvert_exporter": "python",
   "pygments_lexer": "ipython3",
   "version": "3.8.3"
  }
 },
 "nbformat": 4,
 "nbformat_minor": 2
}
