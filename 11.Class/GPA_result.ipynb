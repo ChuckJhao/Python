{
 "cells": [
  {
   "cell_type": "code",
   "execution_count": null,
   "metadata": {},
   "outputs": [],
   "source": [
    "def main():\n",
    "    classroom = [[\"John\", 70], [\"Xaiver\", 85], [\"Kevin\", 50]]\n",
    "    \n",
    "    for c in classroom:\n",
    "        student = GPA(c[0], c[1])\n",
    "        student.gpa_grade()\n",
    "        student.Order_of_books()\n",
    "        print()\n",
    " \n",
    "\n",
    "    \n",
    "main()"
   ]
  }
 ],
 "metadata": {
  "kernelspec": {
   "display_name": "Python 3",
   "language": "python",
   "name": "python3"
  },
  "language_info": {
   "codemirror_mode": {
    "name": "ipython",
    "version": 3
   },
   "file_extension": ".py",
   "mimetype": "text/x-python",
   "name": "python",
   "nbconvert_exporter": "python",
   "pygments_lexer": "ipython3",
   "version": "3.7.6"
  }
 },
 "nbformat": 4,
 "nbformat_minor": 4
}
